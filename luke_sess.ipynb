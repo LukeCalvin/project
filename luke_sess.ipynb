{
 "cells": [
  {
   "cell_type": "code",
   "execution_count": 1,
   "id": "161f8ba9",
   "metadata": {
    "ExecuteTime": {
     "end_time": "2023-06-19T00:30:31.376652Z",
     "start_time": "2023-06-19T00:30:31.334994Z"
    }
   },
   "outputs": [],
   "source": [
    "import numpy as np\n",
    "import pandas as pd\n",
    "import gspread\n",
<<<<<<< Updated upstream
    "import matplotlib\n",
    "from validate import HEADER_RANGE, validate_header"
=======
    "import matplotlib"
>>>>>>> Stashed changes
   ]
  },
  {
   "cell_type": "code",
   "execution_count": 2,
   "id": "79f47187",
   "metadata": {
    "ExecuteTime": {
     "end_time": "2023-06-18T22:32:20.447836Z",
     "start_time": "2023-06-18T22:32:20.370452Z"
    }
   },
   "outputs": [],
   "source": [
    "client = gspread.service_account(filename=\"/Users/lukehakso/kemp/skeleton/project/jobtracker.json\")\n",
    "\n",
    "url = 'https://docs.google.com/spreadsheets/d/1M__pvslmhMRkXCl-7DEPc0PzvKj6qlgfc8antAd9hgI/edit#gid=223128104'\n",
    "sandbox_url = 'https://docs.google.com/spreadsheets/d/1Mab3WIIMxUuFdjzayu1kYBbeIf_-fsLI89vgx9GPKho/edit#gid=223128104'\n",
    "\n",
    "wb = client.open_by_url(sandbox_url)"
   ]
  },
  {
   "cell_type": "markdown",
   "id": "f41cb8d9",
   "metadata": {},
   "source": [
    "# Step 1: bring in the data & clean up\n"
   ]
  },
  {
   "cell_type": "code",
   "execution_count": 3,
   "id": "b0998f3c",
   "metadata": {
    "ExecuteTime": {
     "end_time": "2023-06-18T22:41:07.151688Z",
     "start_time": "2023-06-18T22:41:06.867429Z"
    }
   },
   "outputs": [],
   "source": [
    "first_circuit = wb.get_worksheet_by_id(223128104)"
   ]
  },
  {
   "cell_type": "code",
   "execution_count": 4,
   "id": "c0223ae6",
   "metadata": {
    "ExecuteTime": {
     "end_time": "2023-06-19T00:03:44.307053Z",
     "start_time": "2023-06-19T00:03:44.263597Z"
    }
   },
   "outputs": [],
   "source": [
    "from gspread import Worksheet"
   ]
  },
  {
   "cell_type": "code",
   "execution_count": 5,
   "id": "c439dea6",
   "metadata": {
    "ExecuteTime": {
     "end_time": "2023-06-19T00:28:02.832714Z",
     "start_time": "2023-06-19T00:28:02.204394Z"
    }
   },
   "outputs": [
    {
     "data": {
      "text/plain": [
       "[<Worksheet 'Sno PUD Template' id:190073933>,\n",
       " <Worksheet 'SCL TEMPLATE NEW!' id:1935572229>,\n",
       " <Worksheet 'Copy of SCL TEMPLATE NEW!' id:330042612>,\n",
       " <Worksheet '2788 - Viewland' id:223128104>,\n",
       " <Worksheet '2656 - Broad' id:366832978>,\n",
       " <Worksheet '2665 University' id:1059478635>,\n",
       " <Worksheet 'Copy of 2665 University' id:900012618>,\n",
       " <Worksheet '2760 - East Pine' id:1242704408>,\n",
       " <Worksheet '2659 - Broad' id:1637682286>,\n",
       " <Worksheet '2659 - Audit Report ' id:1699156638>,\n",
       " <Worksheet 'Metrics' id:199590548>,\n",
       " <Worksheet 'Feeder XXX' id:1566579358>,\n",
       " <Worksheet 'Dashboard 1 ' id:937004904>,\n",
       " <Worksheet 'Home' id:1426500379>,\n",
       " <Worksheet 'Dashboard' id:286559239>,\n",
       " <Worksheet '2656 NP Tracker' id:416940292>,\n",
       " <Worksheet '2665 NP Tracker ' id:997235541>,\n",
       " <Worksheet '2760 NP Tracker ' id:1036009459>,\n",
       " <Worksheet '2659 NP Tracker ' id:877680666>]"
      ]
     },
     "execution_count": 5,
     "metadata": {},
     "output_type": "execute_result"
    }
   ],
   "source": [
    "wb.worksheets()"
   ]
  },
  {
   "cell_type": "code",
   "execution_count": 6,
   "id": "ebafe511",
   "metadata": {
    "ExecuteTime": {
     "end_time": "2023-06-19T00:11:06.342238Z",
     "start_time": "2023-06-19T00:11:05.369544Z"
    }
   },
   "outputs": [],
   "source": [
    "colnames = first_circuit.get_values(HEADER_RANGE)"
   ]
  },
  {
   "cell_type": "code",
   "execution_count": 7,
   "id": "6cec8bcb",
   "metadata": {},
   "outputs": [],
   "source": [
    "colnames=colnames[0]"
   ]
  },
  {
   "cell_type": "code",
   "execution_count": 8,
   "id": "270089ba",
   "metadata": {
    "ExecuteTime": {
     "end_time": "2023-06-18T22:51:03.123145Z",
     "start_time": "2023-06-18T22:51:02.808691Z"
    }
   },
   "outputs": [],
   "source": [
    "raw = pd.DataFrame(first_circuit.get_values('A14:T500',),columns=colnames[:-1])"
   ]
  },
  {
   "cell_type": "code",
   "execution_count": 9,
   "id": "11d2e82f",
   "metadata": {
    "ExecuteTime": {
     "end_time": "2023-06-18T22:56:30.680173Z",
     "start_time": "2023-06-18T22:56:30.640139Z"
    }
   },
   "outputs": [],
   "source": [
    "# list comprehension\n",
    "munged_columns = [\n",
    "    x.lower().replace(\" \", \"_\").replace(\"/\", \"\").replace(\"#\", \"no\").replace(\"__\", \"_\")\n",
    "    for x in raw.columns\n",
    "]\n",
    "raw.columns = munged_columns\n",
    "raw = raw.rename(columns={'squirt_boom': 'requires_squirt_boom'}).astype({'requires_squirt_boom': bool})"
   ]
  },
  {
   "cell_type": "markdown",
   "id": "d4687c45",
   "metadata": {},
   "source": [
    "## Validate data"
   ]
  },
  {
   "cell_type": "code",
   "execution_count": 10,
   "id": "8587281e",
   "metadata": {
    "ExecuteTime": {
     "end_time": "2023-06-19T00:29:26.666623Z",
     "start_time": "2023-06-19T00:29:24.920256Z"
    }
   },
   "outputs": [
    {
     "name": "stdout",
     "output_type": "stream",
     "text": [
      "checking 2788 - Viewland...\n",
      "checking 2656 - Broad...\n"
     ]
    }
   ],
   "source": [
    "# this function is working\n",
    "for sheet_id in [223128104,366832978]:\n",
    "    test_sheet = wb.get_worksheet_by_id(sheet_id)\n",
    "    print(f\"checking {test_sheet.title}...\")\n",
    "    validate_header(test_sheet, HEADER_RANGE)"
   ]
  },
  {
   "cell_type": "markdown",
   "id": "bc9d5cb7",
   "metadata": {},
   "source": [
    " # Start to measure \"distances\" between jobs"
   ]
  },
  {
   "cell_type": "markdown",
   "id": "b2b35f02",
   "metadata": {
    "ExecuteTime": {
     "end_time": "2023-06-18T22:57:21.580428Z",
     "start_time": "2023-06-18T22:57:21.537366Z"
    }
   },
   "source": [
    "## For now (maybe for always), never mix squirt & no squirt"
   ]
  },
  {
   "cell_type": "code",
   "execution_count": 11,
   "id": "92c8b56f",
   "metadata": {
    "ExecuteTime": {
     "end_time": "2023-06-19T00:34:00.813814Z",
     "start_time": "2023-06-19T00:34:00.765516Z"
    }
   },
   "outputs": [
    {
     "name": "stdout",
     "output_type": "stream",
     "text": [
      "291\n",
      "300\n"
     ]
    },
    {
     "data": {
      "text/html": [
       "<div>\n",
       "<style scoped>\n",
       "    .dataframe tbody tr th:only-of-type {\n",
       "        vertical-align: middle;\n",
       "    }\n",
       "\n",
       "    .dataframe tbody tr th {\n",
       "        vertical-align: top;\n",
       "    }\n",
       "\n",
       "    .dataframe thead th {\n",
       "        text-align: right;\n",
       "    }\n",
       "</style>\n",
       "<table border=\"1\" class=\"dataframe\">\n",
       "  <thead>\n",
       "    <tr style=\"text-align: right;\">\n",
       "      <th></th>\n",
       "      <th>status</th>\n",
       "      <th>site_no</th>\n",
       "      <th>address</th>\n",
       "      <th>full_address</th>\n",
       "      <th>contact</th>\n",
       "      <th>rmvl_rqust</th>\n",
       "      <th>work_description</th>\n",
       "      <th>nbw</th>\n",
       "      <th>owner_phone_comments</th>\n",
       "      <th>projected_hours</th>\n",
       "      <th>regular_</th>\n",
       "      <th>no_parks</th>\n",
       "      <th>flagging</th>\n",
       "      <th>requires_squirt_boom</th>\n",
       "      <th>merge</th>\n",
       "      <th>site_type</th>\n",
       "      <th>notes</th>\n",
       "      <th>trim_date</th>\n",
       "      <th>sign_off</th>\n",
       "    </tr>\n",
       "  </thead>\n",
       "  <tbody>\n",
       "    <tr>\n",
       "      <th>282</th>\n",
       "      <td>Not Started</td>\n",
       "      <td>283</td>\n",
       "      <td>12751 EVANSTON AVE N</td>\n",
       "      <td>12751 EVANSTON AVE N Seattle, WA</td>\n",
       "      <td>DH</td>\n",
       "      <td></td>\n",
       "      <td>ST FIR / CLEAR POLE</td>\n",
       "      <td></td>\n",
       "      <td></td>\n",
       "      <td>1.00</td>\n",
       "      <td>X</td>\n",
       "      <td></td>\n",
       "      <td></td>\n",
       "      <td>False</td>\n",
       "      <td></td>\n",
       "      <td>Regular</td>\n",
       "      <td></td>\n",
       "      <td></td>\n",
       "      <td></td>\n",
       "    </tr>\n",
       "    <tr>\n",
       "      <th>294</th>\n",
       "      <td>423.75</td>\n",
       "      <td>283</td>\n",
       "      <td>Pending</td>\n",
       "      <td></td>\n",
       "      <td>H.M.R</td>\n",
       "      <td>0.00</td>\n",
       "      <td>0.00</td>\n",
       "      <td>0.00</td>\n",
       "      <td>0.00</td>\n",
       "      <td>0.00</td>\n",
       "      <td></td>\n",
       "      <td></td>\n",
       "      <td></td>\n",
       "      <td>False</td>\n",
       "      <td>0.00</td>\n",
       "      <td></td>\n",
       "      <td>3.00</td>\n",
       "      <td>2.00</td>\n",
       "      <td>1.50</td>\n",
       "    </tr>\n",
       "  </tbody>\n",
       "</table>\n",
       "</div>"
      ],
      "text/plain": [
       "          status site_no               address   \n",
       "282  Not Started     283  12751 EVANSTON AVE N  \\\n",
       "294       423.75     283               Pending   \n",
       "\n",
       "                         full_address contact rmvl_rqust     work_description   \n",
       "282  12751 EVANSTON AVE N Seattle, WA      DH             ST FIR / CLEAR POLE  \\\n",
       "294                                     H.M.R       0.00                 0.00   \n",
       "\n",
       "      nbw owner_phone_comments projected_hours regular_ no_parks flagging   \n",
       "282                                       1.00        X                    \\\n",
       "294  0.00                 0.00            0.00                              \n",
       "\n",
       "     requires_squirt_boom merge site_type notes trim_date sign_off  \n",
       "282                 False        Regular                            \n",
       "294                 False  0.00            3.00      2.00     1.50  "
      ]
     },
     "execution_count": 11,
     "metadata": {},
     "output_type": "execute_result"
    }
   ],
   "source": [
    "# TODO: understand the implications of duplicated site numbers and missing site numbers\n",
    "(raw.site_no=='283').sum()\n",
    "print(len(raw.site_no.drop_duplicates()))\n",
    "print(len(raw.site_no))\n",
    "\n",
    "raw.loc[lambda df: df.site_no=='283']"
   ]
  },
  {
   "cell_type": "code",
   "execution_count": 12,
   "id": "9f6e37e3",
   "metadata": {
    "ExecuteTime": {
     "end_time": "2023-06-19T00:32:05.301872Z",
     "start_time": "2023-06-19T00:32:05.265436Z"
    }
   },
   "outputs": [],
   "source": [
    "df = raw.assign(unique_id=range(raw.shape[0]))"
   ]
  },
  {
   "cell_type": "code",
   "execution_count": 13,
   "id": "540255c7",
   "metadata": {
    "ExecuteTime": {
     "end_time": "2023-06-19T00:34:52.741400Z",
     "start_time": "2023-06-19T00:34:52.684154Z"
    }
   },
   "outputs": [
    {
     "data": {
      "text/plain": [
       "Index(['status', 'site_no', 'address', 'full_address', 'contact', 'rmvl_rqust',\n",
       "       'work_description', 'nbw', 'owner_phone_comments', 'projected_hours',\n",
       "       'regular_', 'no_parks', 'flagging', 'requires_squirt_boom', 'merge',\n",
       "       'site_type', 'notes', 'trim_date', 'sign_off', 'unique_id'],\n",
       "      dtype='object')"
      ]
     },
     "execution_count": 13,
     "metadata": {},
     "output_type": "execute_result"
    }
   ],
   "source": [
    "df.columns"
   ]
  },
  {
   "cell_type": "code",
   "execution_count": 14,
   "id": "7ab69214",
   "metadata": {
    "ExecuteTime": {
     "end_time": "2023-06-19T00:47:39.357912Z",
     "start_time": "2023-06-19T00:47:39.292384Z"
    }
   },
   "outputs": [
    {
     "data": {
      "text/html": [
       "<div>\n",
       "<style scoped>\n",
       "    .dataframe tbody tr th:only-of-type {\n",
       "        vertical-align: middle;\n",
       "    }\n",
       "\n",
       "    .dataframe tbody tr th {\n",
       "        vertical-align: top;\n",
       "    }\n",
       "\n",
       "    .dataframe thead th {\n",
       "        text-align: right;\n",
       "    }\n",
       "</style>\n",
       "<table border=\"1\" class=\"dataframe\">\n",
       "  <thead>\n",
       "    <tr style=\"text-align: right;\">\n",
       "      <th></th>\n",
       "      <th>unique_id</th>\n",
       "      <th>full_address</th>\n",
       "      <th>projected_hours</th>\n",
       "      <th>requires_squirt_boom</th>\n",
       "    </tr>\n",
       "  </thead>\n",
       "  <tbody>\n",
       "    <tr>\n",
       "      <th>0</th>\n",
       "      <td>0</td>\n",
       "      <td>525 N 125TH ST Seattle, WA</td>\n",
       "      <td>0.75</td>\n",
       "      <td>0</td>\n",
       "    </tr>\n",
       "    <tr>\n",
       "      <th>1</th>\n",
       "      <td>1</td>\n",
       "      <td>12245 EVANSTON AVE N Seattle, WA</td>\n",
       "      <td>1.00</td>\n",
       "      <td>0</td>\n",
       "    </tr>\n",
       "  </tbody>\n",
       "</table>\n",
       "</div>"
      ],
      "text/plain": [
       "   unique_id                      full_address projected_hours   \n",
       "0          0        525 N 125TH ST Seattle, WA            0.75  \\\n",
       "1          1  12245 EVANSTON AVE N Seattle, WA            1.00   \n",
       "\n",
       "   requires_squirt_boom  \n",
       "0                     0  \n",
       "1                     0  "
      ]
     },
     "execution_count": 14,
     "metadata": {},
     "output_type": "execute_result"
    }
   ],
   "source": [
    "data = df.loc[:,['unique_id', 'full_address','projected_hours','requires_squirt_boom']].astype({'requires_squirt_boom': int})\n",
    "data.head(2)"
   ]
  },
  {
   "cell_type": "code",
   "execution_count": 15,
   "id": "4c5314f3",
   "metadata": {
    "ExecuteTime": {
     "end_time": "2023-06-19T00:37:23.463059Z",
     "start_time": "2023-06-19T00:37:23.406673Z"
    }
   },
   "outputs": [],
   "source": [
    "# could split manually, but generalizing to multiple dimensions instead for the learns\n",
    "# data_needs_boom, data_no_boom = data.loc[lambda df: df.requires_squirt_boom, :], df.loc[lambda df: ~df.requires_squirt_boom, :]\n"
   ]
  },
  {
   "cell_type": "markdown",
   "id": "a6a93034",
   "metadata": {},
   "source": [
    "## Now Cluster"
   ]
  },
  {
   "cell_type": "code",
   "execution_count": 16,
   "id": "55498a6e",
   "metadata": {
    "ExecuteTime": {
     "end_time": "2023-06-19T00:34:38.667633Z",
     "start_time": "2023-06-19T00:34:33.245747Z"
    }
   },
   "outputs": [],
   "source": [
    "from sklearn.cluster import AgglomerativeClustering"
   ]
  },
  {
   "cell_type": "code",
   "execution_count": 17,
   "id": "3a8e7093",
   "metadata": {
    "ExecuteTime": {
     "end_time": "2023-06-19T00:48:41.988332Z",
     "start_time": "2023-06-19T00:48:41.927685Z"
    }
   },
   "outputs": [
    {
     "name": "stdout",
     "output_type": "stream",
     "text": [
      "0th iteration, value is a\n",
      "1th iteration, value is b\n",
      "2th iteration, value is 2\n"
     ]
    }
   ],
   "source": [
    "for i, val in enumerate(['a','b',2]):\n",
    "    print(f\"{i}th iteration, value is {val}\")"
   ]
  },
  {
   "cell_type": "code",
   "execution_count": 18,
   "id": "213a7708",
   "metadata": {
    "ExecuteTime": {
     "end_time": "2023-06-19T00:50:43.785201Z",
     "start_time": "2023-06-19T00:50:43.736627Z"
    }
   },
   "outputs": [
    {
     "data": {
      "text/plain": [
       "59"
      ]
     },
     "execution_count": 18,
     "metadata": {},
     "output_type": "execute_result"
    }
   ],
   "source": [
    "data.requires_squirt_boom.argmax()"
   ]
  },
  {
   "cell_type": "code",
   "execution_count": 19,
   "id": "876c3bba",
   "metadata": {
    "ExecuteTime": {
     "end_time": "2023-06-19T00:50:51.333298Z",
     "start_time": "2023-06-19T00:50:51.284146Z"
    }
   },
   "outputs": [
    {
     "data": {
      "text/plain": [
       "unique_id                                             59\n",
       "full_address            12212 DENSMORE AVE N Seattle, WA\n",
       "projected_hours                                     3.00\n",
       "requires_squirt_boom                                   1\n",
       "Name: 59, dtype: object"
      ]
     },
     "execution_count": 19,
     "metadata": {},
     "output_type": "execute_result"
    }
   ],
   "source": [
    "data.loc[59,:]"
   ]
  },
  {
   "cell_type": "code",
   "execution_count": 20,
   "id": "6472524d",
   "metadata": {},
   "outputs": [],
   "source": [
    "holding_matrix = data"
   ]
  },
  {
   "cell_type": "code",
   "execution_count": 21,
   "id": "5530627c",
   "metadata": {
    "ExecuteTime": {
     "end_time": "2023-06-19T00:51:17.664051Z",
     "start_time": "2023-06-19T00:51:17.606110Z"
    }
   },
   "outputs": [
    {
     "ename": "KeyError",
     "evalue": "(59, 58)",
     "output_type": "error",
     "traceback": [
      "\u001b[0;31m---------------------------------------------------------------------------\u001b[0m",
      "\u001b[0;31mKeyError\u001b[0m                                  Traceback (most recent call last)",
      "File \u001b[0;32m/Library/Frameworks/Python.framework/Versions/3.11/lib/python3.11/site-packages/pandas/core/indexes/base.py:3652\u001b[0m, in \u001b[0;36mIndex.get_loc\u001b[0;34m(self, key)\u001b[0m\n\u001b[1;32m   3651\u001b[0m \u001b[38;5;28;01mtry\u001b[39;00m:\n\u001b[0;32m-> 3652\u001b[0m     \u001b[38;5;28;01mreturn\u001b[39;00m \u001b[38;5;28;43mself\u001b[39;49m\u001b[38;5;241;43m.\u001b[39;49m\u001b[43m_engine\u001b[49m\u001b[38;5;241;43m.\u001b[39;49m\u001b[43mget_loc\u001b[49m\u001b[43m(\u001b[49m\u001b[43mcasted_key\u001b[49m\u001b[43m)\u001b[49m\n\u001b[1;32m   3653\u001b[0m \u001b[38;5;28;01mexcept\u001b[39;00m \u001b[38;5;167;01mKeyError\u001b[39;00m \u001b[38;5;28;01mas\u001b[39;00m err:\n",
      "File \u001b[0;32m/Library/Frameworks/Python.framework/Versions/3.11/lib/python3.11/site-packages/pandas/_libs/index.pyx:147\u001b[0m, in \u001b[0;36mpandas._libs.index.IndexEngine.get_loc\u001b[0;34m()\u001b[0m\n",
      "File \u001b[0;32m/Library/Frameworks/Python.framework/Versions/3.11/lib/python3.11/site-packages/pandas/_libs/index.pyx:176\u001b[0m, in \u001b[0;36mpandas._libs.index.IndexEngine.get_loc\u001b[0;34m()\u001b[0m\n",
      "File \u001b[0;32mpandas/_libs/hashtable_class_helper.pxi:7080\u001b[0m, in \u001b[0;36mpandas._libs.hashtable.PyObjectHashTable.get_item\u001b[0;34m()\u001b[0m\n",
      "File \u001b[0;32mpandas/_libs/hashtable_class_helper.pxi:7088\u001b[0m, in \u001b[0;36mpandas._libs.hashtable.PyObjectHashTable.get_item\u001b[0;34m()\u001b[0m\n",
      "\u001b[0;31mKeyError\u001b[0m: (59, 58)",
      "\nThe above exception was the direct cause of the following exception:\n",
      "\u001b[0;31mKeyError\u001b[0m                                  Traceback (most recent call last)",
      "Cell \u001b[0;32mIn[21], line 1\u001b[0m\n\u001b[0;32m----> 1\u001b[0m \u001b[43mholding_matrix\u001b[49m\u001b[43m[\u001b[49m\u001b[38;5;241;43m59\u001b[39;49m\u001b[43m,\u001b[49m\u001b[38;5;241;43m58\u001b[39;49m\u001b[43m]\u001b[49m\n",
      "File \u001b[0;32m/Library/Frameworks/Python.framework/Versions/3.11/lib/python3.11/site-packages/pandas/core/frame.py:3760\u001b[0m, in \u001b[0;36mDataFrame.__getitem__\u001b[0;34m(self, key)\u001b[0m\n\u001b[1;32m   3758\u001b[0m \u001b[38;5;28;01mif\u001b[39;00m \u001b[38;5;28mself\u001b[39m\u001b[38;5;241m.\u001b[39mcolumns\u001b[38;5;241m.\u001b[39mnlevels \u001b[38;5;241m>\u001b[39m \u001b[38;5;241m1\u001b[39m:\n\u001b[1;32m   3759\u001b[0m     \u001b[38;5;28;01mreturn\u001b[39;00m \u001b[38;5;28mself\u001b[39m\u001b[38;5;241m.\u001b[39m_getitem_multilevel(key)\n\u001b[0;32m-> 3760\u001b[0m indexer \u001b[38;5;241m=\u001b[39m \u001b[38;5;28;43mself\u001b[39;49m\u001b[38;5;241;43m.\u001b[39;49m\u001b[43mcolumns\u001b[49m\u001b[38;5;241;43m.\u001b[39;49m\u001b[43mget_loc\u001b[49m\u001b[43m(\u001b[49m\u001b[43mkey\u001b[49m\u001b[43m)\u001b[49m\n\u001b[1;32m   3761\u001b[0m \u001b[38;5;28;01mif\u001b[39;00m is_integer(indexer):\n\u001b[1;32m   3762\u001b[0m     indexer \u001b[38;5;241m=\u001b[39m [indexer]\n",
      "File \u001b[0;32m/Library/Frameworks/Python.framework/Versions/3.11/lib/python3.11/site-packages/pandas/core/indexes/base.py:3654\u001b[0m, in \u001b[0;36mIndex.get_loc\u001b[0;34m(self, key)\u001b[0m\n\u001b[1;32m   3652\u001b[0m     \u001b[38;5;28;01mreturn\u001b[39;00m \u001b[38;5;28mself\u001b[39m\u001b[38;5;241m.\u001b[39m_engine\u001b[38;5;241m.\u001b[39mget_loc(casted_key)\n\u001b[1;32m   3653\u001b[0m \u001b[38;5;28;01mexcept\u001b[39;00m \u001b[38;5;167;01mKeyError\u001b[39;00m \u001b[38;5;28;01mas\u001b[39;00m err:\n\u001b[0;32m-> 3654\u001b[0m     \u001b[38;5;28;01mraise\u001b[39;00m \u001b[38;5;167;01mKeyError\u001b[39;00m(key) \u001b[38;5;28;01mfrom\u001b[39;00m \u001b[38;5;21;01merr\u001b[39;00m\n\u001b[1;32m   3655\u001b[0m \u001b[38;5;28;01mexcept\u001b[39;00m \u001b[38;5;167;01mTypeError\u001b[39;00m:\n\u001b[1;32m   3656\u001b[0m     \u001b[38;5;66;03m# If we have a listlike key, _check_indexing_error will raise\u001b[39;00m\n\u001b[1;32m   3657\u001b[0m     \u001b[38;5;66;03m#  InvalidIndexError. Otherwise we fall through and re-raise\u001b[39;00m\n\u001b[1;32m   3658\u001b[0m     \u001b[38;5;66;03m#  the TypeError.\u001b[39;00m\n\u001b[1;32m   3659\u001b[0m     \u001b[38;5;28mself\u001b[39m\u001b[38;5;241m.\u001b[39m_check_indexing_error(key)\n",
      "\u001b[0;31mKeyError\u001b[0m: (59, 58)"
     ]
    }
   ],
   "source": [
    "holding_matrix[59,58]"
   ]
  },
  {
   "cell_type": "code",
   "execution_count": 22,
   "id": "0c0b7673",
   "metadata": {
    "ExecuteTime": {
     "end_time": "2023-06-19T00:51:57.613064Z",
     "start_time": "2023-06-19T00:51:57.565951Z"
    }
   },
   "outputs": [],
   "source": [
    "holding_matrix[0,0] = np.abs(data.loc[59,'requires_squirt_boom']- data.loc[60,'requires_squirt_boom'])"
   ]
  },
  {
   "cell_type": "code",
   "execution_count": 23,
   "id": "bd7b2084",
   "metadata": {
    "ExecuteTime": {
     "end_time": "2023-06-19T00:52:01.489243Z",
     "start_time": "2023-06-19T00:52:01.441496Z"
    }
   },
   "outputs": [
    {
     "data": {
      "text/plain": [
       "0      1\n",
       "1      1\n",
       "2      1\n",
       "3      1\n",
       "4      1\n",
       "      ..\n",
       "295    1\n",
       "296    1\n",
       "297    1\n",
       "298    1\n",
       "299    1\n",
       "Name: (0, 0), Length: 300, dtype: int64"
      ]
     },
     "execution_count": 23,
     "metadata": {},
     "output_type": "execute_result"
    }
   ],
   "source": [
    "holding_matrix[0,0]"
   ]
  },
  {
   "cell_type": "code",
   "execution_count": 24,
   "id": "e8b9d0e9",
   "metadata": {
    "ExecuteTime": {
     "end_time": "2023-06-19T00:52:23.043205Z",
     "start_time": "2023-06-19T00:52:22.992608Z"
    }
   },
   "outputs": [
    {
     "ename": "KeyError",
     "evalue": "(59, 58)",
     "output_type": "error",
     "traceback": [
      "\u001b[0;31m---------------------------------------------------------------------------\u001b[0m",
      "\u001b[0;31mKeyError\u001b[0m                                  Traceback (most recent call last)",
      "File \u001b[0;32m/Library/Frameworks/Python.framework/Versions/3.11/lib/python3.11/site-packages/pandas/core/indexes/base.py:3652\u001b[0m, in \u001b[0;36mIndex.get_loc\u001b[0;34m(self, key)\u001b[0m\n\u001b[1;32m   3651\u001b[0m \u001b[38;5;28;01mtry\u001b[39;00m:\n\u001b[0;32m-> 3652\u001b[0m     \u001b[38;5;28;01mreturn\u001b[39;00m \u001b[38;5;28;43mself\u001b[39;49m\u001b[38;5;241;43m.\u001b[39;49m\u001b[43m_engine\u001b[49m\u001b[38;5;241;43m.\u001b[39;49m\u001b[43mget_loc\u001b[49m\u001b[43m(\u001b[49m\u001b[43mcasted_key\u001b[49m\u001b[43m)\u001b[49m\n\u001b[1;32m   3653\u001b[0m \u001b[38;5;28;01mexcept\u001b[39;00m \u001b[38;5;167;01mKeyError\u001b[39;00m \u001b[38;5;28;01mas\u001b[39;00m err:\n",
      "File \u001b[0;32m/Library/Frameworks/Python.framework/Versions/3.11/lib/python3.11/site-packages/pandas/_libs/index.pyx:147\u001b[0m, in \u001b[0;36mpandas._libs.index.IndexEngine.get_loc\u001b[0;34m()\u001b[0m\n",
      "File \u001b[0;32m/Library/Frameworks/Python.framework/Versions/3.11/lib/python3.11/site-packages/pandas/_libs/index.pyx:176\u001b[0m, in \u001b[0;36mpandas._libs.index.IndexEngine.get_loc\u001b[0;34m()\u001b[0m\n",
      "File \u001b[0;32mpandas/_libs/hashtable_class_helper.pxi:7080\u001b[0m, in \u001b[0;36mpandas._libs.hashtable.PyObjectHashTable.get_item\u001b[0;34m()\u001b[0m\n",
      "File \u001b[0;32mpandas/_libs/hashtable_class_helper.pxi:7088\u001b[0m, in \u001b[0;36mpandas._libs.hashtable.PyObjectHashTable.get_item\u001b[0;34m()\u001b[0m\n",
      "\u001b[0;31mKeyError\u001b[0m: (59, 58)",
      "\nThe above exception was the direct cause of the following exception:\n",
      "\u001b[0;31mKeyError\u001b[0m                                  Traceback (most recent call last)",
      "Cell \u001b[0;32mIn[24], line 1\u001b[0m\n\u001b[0;32m----> 1\u001b[0m \u001b[43mholding_matrix\u001b[49m\u001b[43m[\u001b[49m\u001b[38;5;241;43m59\u001b[39;49m\u001b[43m,\u001b[49m\u001b[38;5;241;43m58\u001b[39;49m\u001b[43m]\u001b[49m\n",
      "File \u001b[0;32m/Library/Frameworks/Python.framework/Versions/3.11/lib/python3.11/site-packages/pandas/core/frame.py:3760\u001b[0m, in \u001b[0;36mDataFrame.__getitem__\u001b[0;34m(self, key)\u001b[0m\n\u001b[1;32m   3758\u001b[0m \u001b[38;5;28;01mif\u001b[39;00m \u001b[38;5;28mself\u001b[39m\u001b[38;5;241m.\u001b[39mcolumns\u001b[38;5;241m.\u001b[39mnlevels \u001b[38;5;241m>\u001b[39m \u001b[38;5;241m1\u001b[39m:\n\u001b[1;32m   3759\u001b[0m     \u001b[38;5;28;01mreturn\u001b[39;00m \u001b[38;5;28mself\u001b[39m\u001b[38;5;241m.\u001b[39m_getitem_multilevel(key)\n\u001b[0;32m-> 3760\u001b[0m indexer \u001b[38;5;241m=\u001b[39m \u001b[38;5;28;43mself\u001b[39;49m\u001b[38;5;241;43m.\u001b[39;49m\u001b[43mcolumns\u001b[49m\u001b[38;5;241;43m.\u001b[39;49m\u001b[43mget_loc\u001b[49m\u001b[43m(\u001b[49m\u001b[43mkey\u001b[49m\u001b[43m)\u001b[49m\n\u001b[1;32m   3761\u001b[0m \u001b[38;5;28;01mif\u001b[39;00m is_integer(indexer):\n\u001b[1;32m   3762\u001b[0m     indexer \u001b[38;5;241m=\u001b[39m [indexer]\n",
      "File \u001b[0;32m/Library/Frameworks/Python.framework/Versions/3.11/lib/python3.11/site-packages/pandas/core/indexes/base.py:3654\u001b[0m, in \u001b[0;36mIndex.get_loc\u001b[0;34m(self, key)\u001b[0m\n\u001b[1;32m   3652\u001b[0m     \u001b[38;5;28;01mreturn\u001b[39;00m \u001b[38;5;28mself\u001b[39m\u001b[38;5;241m.\u001b[39m_engine\u001b[38;5;241m.\u001b[39mget_loc(casted_key)\n\u001b[1;32m   3653\u001b[0m \u001b[38;5;28;01mexcept\u001b[39;00m \u001b[38;5;167;01mKeyError\u001b[39;00m \u001b[38;5;28;01mas\u001b[39;00m err:\n\u001b[0;32m-> 3654\u001b[0m     \u001b[38;5;28;01mraise\u001b[39;00m \u001b[38;5;167;01mKeyError\u001b[39;00m(key) \u001b[38;5;28;01mfrom\u001b[39;00m \u001b[38;5;21;01merr\u001b[39;00m\n\u001b[1;32m   3655\u001b[0m \u001b[38;5;28;01mexcept\u001b[39;00m \u001b[38;5;167;01mTypeError\u001b[39;00m:\n\u001b[1;32m   3656\u001b[0m     \u001b[38;5;66;03m# If we have a listlike key, _check_indexing_error will raise\u001b[39;00m\n\u001b[1;32m   3657\u001b[0m     \u001b[38;5;66;03m#  InvalidIndexError. Otherwise we fall through and re-raise\u001b[39;00m\n\u001b[1;32m   3658\u001b[0m     \u001b[38;5;66;03m#  the TypeError.\u001b[39;00m\n\u001b[1;32m   3659\u001b[0m     \u001b[38;5;28mself\u001b[39m\u001b[38;5;241m.\u001b[39m_check_indexing_error(key)\n",
      "\u001b[0;31mKeyError\u001b[0m: (59, 58)"
     ]
    }
   ],
   "source": [
    "holding_matrix[59,58]"
   ]
  },
  {
   "cell_type": "code",
   "execution_count": 25,
   "id": "9b3be7c0",
   "metadata": {
    "ExecuteTime": {
     "end_time": "2023-06-19T00:52:44.557331Z",
     "start_time": "2023-06-19T00:52:44.511928Z"
    }
   },
   "outputs": [
    {
     "data": {
      "text/plain": [
       "1"
      ]
     },
     "execution_count": 25,
     "metadata": {},
     "output_type": "execute_result"
    }
   ],
   "source": [
    "data.loc[59, \"requires_squirt_boom\"]"
   ]
  },
  {
   "cell_type": "code",
   "execution_count": 26,
   "id": "35eee571",
   "metadata": {
    "ExecuteTime": {
     "end_time": "2023-06-19T00:56:30.166744Z",
     "start_time": "2023-06-19T00:56:28.286210Z"
    }
   },
   "outputs": [],
   "source": [
    "squirt_requirement = np.empty((len(df), len(df), 1))\n",
    "for row, task_to_compare in enumerate(data.unique_id):\n",
    "    for column, paired_task in enumerate(data.unique_id):\n",
    "        squirt_requirement[row, column] = np.abs(\n",
    "            (\n",
    "                data.loc[task_to_compare, \"requires_squirt_boom\"]\n",
    "                - data.loc[paired_task, \"requires_squirt_boom\"]\n",
    "            )\n",
    "        )"
   ]
  },
  {
   "cell_type": "code",
   "execution_count": null,
   "id": "098d8845",
   "metadata": {},
   "outputs": [],
   "source": []
  },
  {
   "cell_type": "code",
   "execution_count": 27,
   "id": "fb0527a2",
   "metadata": {
    "ExecuteTime": {
     "end_time": "2023-06-19T00:43:17.980440Z",
     "start_time": "2023-06-19T00:43:17.921666Z"
    }
   },
   "outputs": [],
   "source": [
    "df = data\n",
    "faux_drivetime = pd.DataFrame(np.random.rand(len(df),len(df)),).astype(float)\n",
    "drivetime_layer = faux_drivetime.values.reshape(len(df),len(df),1)"
   ]
  },
  {
   "cell_type": "code",
   "execution_count": 28,
   "id": "0822ae9c",
   "metadata": {
    "ExecuteTime": {
     "end_time": "2023-06-19T00:57:52.094505Z",
     "start_time": "2023-06-19T00:57:52.047679Z"
    }
   },
   "outputs": [],
   "source": [
    "squirt_weight = 1000\n",
    "distance_matrix = np.concatenate(\n",
    "    (\n",
    "        drivetime_layer.reshape(len(df), len(df), 1),\n",
    "        squirt_requirement.reshape(len(df), len(df), 1)*squirt_weight,\n",
    "    ),\n",
    "    axis=2,\n",
    ").sum(axis=2)"
   ]
  },
  {
   "cell_type": "code",
   "execution_count": 29,
   "id": "715a974f",
   "metadata": {
    "ExecuteTime": {
     "end_time": "2023-06-19T01:02:29.201261Z",
     "start_time": "2023-06-19T01:02:29.131415Z"
    }
   },
   "outputs": [
    {
     "data": {
      "text/plain": [
       "array([178, 282, 270, 237, 289, 222, 232, 241, 166, 188, 263, 179, 180,\n",
       "       290, 214, 228, 243, 245, 244, 216, 251, 157, 167, 186, 294, 296,\n",
       "       260, 193, 297, 293, 152, 295, 226, 207, 199, 283, 235, 223, 233,\n",
       "       298, 159, 268, 171, 259, 160, 200, 255, 182, 162, 266, 227, 247,\n",
       "       205, 210, 169, 220,  89, 208, 204, 256, 144, 224, 267, 272, 146,\n",
       "       253, 154, 165, 252, 249, 285, 189, 190, 111, 238, 280, 286, 269,\n",
       "       265, 147, 202, 170, 142, 273, 156, 231, 219, 254, 261, 292, 174,\n",
       "       163, 134, 279, 155, 250, 206, 212, 291, 248, 276, 123, 239, 242,\n",
       "       177, 240, 258, 264, 217, 201,  77, 281, 131, 140, 230, 109, 124,\n",
       "       221, 284,  79, 139, 158, 183, 299,  94, 102, 198, 195, 288, 187,\n",
       "       127, 196, 287, 236, 168, 277, 173, 185, 275, 184, 120, 115, 110,\n",
       "        86, 215, 274, 164, 143, 192, 103, 194, 119, 278,  61, 211, 129,\n",
       "       197, 105, 133,  78,  59, 145, 118, 150, 137, 257, 148, 176,  54,\n",
       "        73, 151, 175, 271, 126, 100, 132,  88, 209, 213, 218,  38, 104,\n",
       "       246,  83,  93, 153,  92, 125,  97, 234, 203,  84, 262, 172, 138,\n",
       "        51, 108, 141,  96,  75,  66,  41, 113, 191, 181, 121, 106, 117,\n",
       "        82, 116, 136,  72,  95,  99, 229, 101, 161,  57,  71,  81,  85,\n",
       "       122, 149,  90, 114,  76,  56,  49, 135, 130,  58,  50,  98,  80,\n",
       "        52,  46, 225,  60,  25,  67,  44,  69,  74,  36,  65,  29, 128,\n",
       "        40, 107,  91,  62,  37,  39,  53,  42,  48,  45,  63, 112,  30,\n",
       "        35,  28,  47,  64,  26,  55,  70,  68,  24,  32,  27,  19,  33,\n",
       "        31,  20,  34,  15,  16,   9,  87,  23,  43,  11,  21,  17,  22,\n",
       "        14,  18,  12,  10,   5,   7,   8,   3,  13,   6,   4,   2,   1,\n",
       "         0])"
      ]
     },
     "execution_count": 29,
     "metadata": {},
     "output_type": "execute_result"
    }
   ],
   "source": [
    "\n",
    "mdl = AgglomerativeClustering(distance_threshold=0,n_clusters=None)\n",
    "\n",
    "mdl.fit_predict(X=distance_matrix)"
   ]
  },
  {
   "cell_type": "code",
   "execution_count": 38,
   "id": "9cc934cc",
   "metadata": {
    "ExecuteTime": {
     "end_time": "2023-06-19T01:00:50.590931Z",
     "start_time": "2023-06-19T01:00:50.544165Z"
    }
   },
   "outputs": [],
   "source": [
    "from matplotlib import pyplot as plt\n",
    "from scipy.cluster.hierarchy import dendrogram\n",
    "from sklearn.datasets import load_iris\n",
    "from sklearn.cluster import AgglomerativeClustering\n",
    "from scipy.cluster import hierarchy"
   ]
  },
  {
   "cell_type": "code",
   "execution_count": 60,
   "id": "9b13675b",
   "metadata": {
    "ExecuteTime": {
     "end_time": "2023-06-19T01:03:46.099423Z",
     "start_time": "2023-06-19T01:03:45.866388Z"
    }
   },
   "outputs": [
    {
     "data": {
      "image/png": "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",
      "text/plain": [
       "<Figure size 1000x600 with 1 Axes>"
      ]
     },
     "metadata": {},
     "output_type": "display_data"
    }
   ],
   "source": [
    "plot_dendrogram(mdl)"
   ]
  },
  {
   "cell_type": "code",
   "execution_count": 32,
   "id": "bd2041e5",
   "metadata": {
    "ExecuteTime": {
     "end_time": "2023-06-19T01:00:27.013785Z",
     "start_time": "2023-06-19T01:00:26.966172Z"
    }
   },
   "outputs": [],
   "source": [
    "def plot_dendrogram(model, **kwargs):\n",
    "    # Create linkage matrix and then plot the dendrogram\n",
    "    pass\n",
    "    # create the counts of samples under each node\n",
    "    counts = np.zeros(model.children_.shape[0])\n",
    "    n_samples = len(model.labels_)\n",
    "    for i, merge in enumerate(model.children_):\n",
    "        current_count = 0\n",
    "        for child_idx in merge:\n",
    "            if child_idx < n_samples:\n",
    "                current_count += 1  # leaf node\n",
    "            else:\n",
    "                current_count += counts[child_idx - n_samples]\n",
    "        counts[i] = current_count\n",
    "\n",
    "    linkage_matrix = np.column_stack(\n",
    "        [mdl.children_, mdl.distances_, counts]\n",
    "    ).astype(float)\n",
    "\n",
    "    # Plot the corresponding dendrogram\n",
    "    dendrogram(linkage_matrix, **kwargs)"
   ]
  },
  {
   "cell_type": "code",
   "execution_count": 59,
<<<<<<< Updated upstream
   "id": "3501fe4a",
=======
   "id": "2c2c4bd9",
>>>>>>> Stashed changes
   "metadata": {},
   "outputs": [],
   "source": [
    "def plot_dendrogram(model,**kwargs):\n",
<<<<<<< Updated upstream
    "    # Perform agglomerative clustering\n",
=======
>>>>>>> Stashed changes
    "\n",
    "    # Obtain the linkage matrix\n",
    "    linkage_matrix = hierarchy.linkage(model.children_, method='ward')\n",
    "\n",
    "    # Plot the dendrogram\n",
    "    plt.figure(figsize=(10, 6))\n",
    "    dn = hierarchy.dendrogram(linkage_matrix)\n",
    "\n",
    "    # Add labels to the plot\n",
    "    plt.xlabel('Index')\n",
    "    plt.ylabel('Distance')\n",
    "    \n",
    "    plt.ylim(0,25)\n",
    "    # Show the plot\n",
    "    plt.show()"
   ]
  },
  {
   "cell_type": "code",
   "execution_count": 33,
   "id": "0d737c2a",
   "metadata": {
    "ExecuteTime": {
     "end_time": "2023-06-19T00:43:22.205603Z",
     "start_time": "2023-06-19T00:43:22.149589Z"
    }
   },
   "outputs": [
    {
     "data": {
      "text/plain": [
       "(300, 300)"
      ]
     },
     "execution_count": 33,
     "metadata": {},
     "output_type": "execute_result"
    }
   ],
   "source": [
    "faux_drivetime.shape"
   ]
  },
  {
   "cell_type": "code",
   "execution_count": 34,
   "id": "108f2f52",
   "metadata": {
    "ExecuteTime": {
     "end_time": "2023-06-19T00:43:59.191068Z",
     "start_time": "2023-06-19T00:43:59.144726Z"
    }
   },
   "outputs": [
    {
     "data": {
      "text/plain": [
       "(300, 300, 1)"
      ]
     },
     "execution_count": 34,
     "metadata": {},
     "output_type": "execute_result"
    }
   ],
   "source": [
    "drivetime_layer.shape"
   ]
  },
  {
   "cell_type": "code",
   "execution_count": 103,
   "id": "820375e6",
   "metadata": {
    "ExecuteTime": {
     "end_time": "2023-06-19T00:40:01.864311Z",
     "start_time": "2023-06-19T00:40:01.816036Z"
    }
   },
   "outputs": [
    {
     "data": {
      "text/plain": [
       "(299, 299)"
      ]
     },
     "execution_count": 103,
     "metadata": {},
     "output_type": "execute_result"
    }
   ],
   "source": [
    "faux_drivetime.shape"
   ]
  },
  {
   "cell_type": "code",
   "execution_count": 84,
   "id": "f35dd4c3",
   "metadata": {},
   "outputs": [
    {
     "data": {
      "text/plain": [
       "array([0, 1, 1, 0, 0, 1, 0, 1, 0, 0])"
      ]
     },
     "execution_count": 84,
     "metadata": {},
     "output_type": "execute_result"
    }
   ],
   "source": [
    "distance_driving = pd.DataFrame(np.random.rand(10,10)).round(3)\n",
    "\n",
    "job_similarity_weight = 10\n",
    "distance_job_similarity = pd.DataFrame(np.random.rand(10,10)>0.2).astype(float)*job_similarity_weight\n",
    "\n",
    "distance_driving\n",
    "\n",
    "distance_matrix = np.concatenate((distance_driving.values.reshape(10,10,-1),distance_job_similarity.values.reshape(10,10,-1)),axis=2).sum(axis=2)\n",
    "\n",
    "mdl = AgglomerativeClustering(n_clusters=2)\n",
    "\n",
    "mdl.fit_predict(X=distance_matrix)"
   ]
  },
  {
   "cell_type": "code",
   "execution_count": 54,
   "id": "35acdc3e",
   "metadata": {
    "ExecuteTime": {
     "end_time": "2023-06-18T22:58:38.204341Z",
     "start_time": "2023-06-18T22:58:38.156825Z"
    }
   },
   "outputs": [
    {
     "data": {
      "text/plain": [
       "       8\n",
       "283    2\n",
       "3      2\n",
       "191    1\n",
       "198    1\n",
       "      ..\n",
       "98     1\n",
       "97     1\n",
       "96     1\n",
       "95     1\n",
       "0      1\n",
       "Name: site_no, Length: 291, dtype: int64"
      ]
     },
     "execution_count": 54,
     "metadata": {},
     "output_type": "execute_result"
    }
   ],
   "source": [
    "raw.site_no.value_counts()"
   ]
  },
  {
   "cell_type": "code",
   "execution_count": 48,
   "id": "6765ee09",
   "metadata": {
    "ExecuteTime": {
     "end_time": "2023-06-18T22:57:28.843615Z",
     "start_time": "2023-06-18T22:57:28.793467Z"
    }
   },
   "outputs": [
    {
     "data": {
      "text/html": [
       "<div>\n",
       "<style scoped>\n",
       "    .dataframe tbody tr th:only-of-type {\n",
       "        vertical-align: middle;\n",
       "    }\n",
       "\n",
       "    .dataframe tbody tr th {\n",
       "        vertical-align: top;\n",
       "    }\n",
       "\n",
       "    .dataframe thead th {\n",
       "        text-align: right;\n",
       "    }\n",
       "</style>\n",
       "<table border=\"1\" class=\"dataframe\">\n",
       "  <thead>\n",
       "    <tr style=\"text-align: right;\">\n",
       "      <th></th>\n",
       "      <th>status</th>\n",
       "      <th>site_no</th>\n",
       "      <th>address</th>\n",
       "      <th>full_address</th>\n",
       "      <th>contact</th>\n",
       "      <th>rmvl_rqust</th>\n",
       "      <th>work_description</th>\n",
       "      <th>nbw</th>\n",
       "      <th>owner_phone_comments</th>\n",
       "      <th>projected_hours</th>\n",
       "      <th>regular_</th>\n",
       "      <th>no_parks</th>\n",
       "      <th>flagging</th>\n",
       "      <th>requires_squirt_boom</th>\n",
       "      <th>merge</th>\n",
       "      <th>site_type</th>\n",
       "      <th>notes</th>\n",
       "      <th>trim_date</th>\n",
       "      <th>sign_off</th>\n",
       "    </tr>\n",
       "  </thead>\n",
       "  <tbody>\n",
       "    <tr>\n",
       "      <th>0</th>\n",
       "      <td>Done</td>\n",
       "      <td>1</td>\n",
       "      <td>525 N 125TH ST</td>\n",
       "      <td>525 N 125TH ST Seattle, WA</td>\n",
       "      <td>DH</td>\n",
       "      <td></td>\n",
       "      <td>ST CEDAR ON EVANSTON</td>\n",
       "      <td></td>\n",
       "      <td></td>\n",
       "      <td>0.75</td>\n",
       "      <td>X</td>\n",
       "      <td></td>\n",
       "      <td></td>\n",
       "      <td>False</td>\n",
       "      <td></td>\n",
       "      <td>RegularCompleted</td>\n",
       "      <td></td>\n",
       "      <td>6/14/23</td>\n",
       "      <td>H.M.R</td>\n",
       "    </tr>\n",
       "    <tr>\n",
       "      <th>1</th>\n",
       "      <td>Done</td>\n",
       "      <td>2</td>\n",
       "      <td>12245 EVANSTON AVE N</td>\n",
       "      <td>12245 EVANSTON AVE N Seattle, WA</td>\n",
       "      <td>SH</td>\n",
       "      <td></td>\n",
       "      <td>ST FIR &amp; PINE / CLEAR POLE</td>\n",
       "      <td></td>\n",
       "      <td></td>\n",
       "      <td>1.00</td>\n",
       "      <td>X</td>\n",
       "      <td></td>\n",
       "      <td></td>\n",
       "      <td>False</td>\n",
       "      <td></td>\n",
       "      <td>RegularCompleted</td>\n",
       "      <td></td>\n",
       "      <td>6/15/23</td>\n",
       "      <td>H.M.R</td>\n",
       "    </tr>\n",
       "    <tr>\n",
       "      <th>2</th>\n",
       "      <td>Done</td>\n",
       "      <td>3</td>\n",
       "      <td>522 N 122ND ST</td>\n",
       "      <td>522 N 122ND ST Seattle, WA</td>\n",
       "      <td>DH</td>\n",
       "      <td></td>\n",
       "      <td>TT APPLE FOR NEUTRAL ON 122ND</td>\n",
       "      <td></td>\n",
       "      <td></td>\n",
       "      <td>0.75</td>\n",
       "      <td>X</td>\n",
       "      <td></td>\n",
       "      <td></td>\n",
       "      <td>False</td>\n",
       "      <td></td>\n",
       "      <td>RegularCompleted</td>\n",
       "      <td></td>\n",
       "      <td>6/15/23</td>\n",
       "      <td>H.M.R</td>\n",
       "    </tr>\n",
       "    <tr>\n",
       "      <th>3</th>\n",
       "      <td>In Process</td>\n",
       "      <td>4</td>\n",
       "      <td>523 N 122ND ST</td>\n",
       "      <td>523 N 122ND ST Seattle, WA</td>\n",
       "      <td>DH</td>\n",
       "      <td></td>\n",
       "      <td>ST CEDARS &amp; FIR / TTS PINES / CLEAR POLE / WOR...</td>\n",
       "      <td></td>\n",
       "      <td></td>\n",
       "      <td>2.00</td>\n",
       "      <td>X</td>\n",
       "      <td></td>\n",
       "      <td></td>\n",
       "      <td>False</td>\n",
       "      <td></td>\n",
       "      <td>RegularIn Process</td>\n",
       "      <td></td>\n",
       "      <td></td>\n",
       "      <td></td>\n",
       "    </tr>\n",
       "    <tr>\n",
       "      <th>4</th>\n",
       "      <td>Not Started</td>\n",
       "      <td>5</td>\n",
       "      <td>12043 EVANSTON AVE N</td>\n",
       "      <td>12043 EVANSTON AVE N Seattle, WA</td>\n",
       "      <td>DH</td>\n",
       "      <td></td>\n",
       "      <td>TTS DEODAR AND MAPLE / CLEAR POLE</td>\n",
       "      <td></td>\n",
       "      <td></td>\n",
       "      <td>1.00</td>\n",
       "      <td>X</td>\n",
       "      <td></td>\n",
       "      <td></td>\n",
       "      <td>False</td>\n",
       "      <td></td>\n",
       "      <td>Regular</td>\n",
       "      <td></td>\n",
       "      <td></td>\n",
       "      <td></td>\n",
       "    </tr>\n",
       "    <tr>\n",
       "      <th>...</th>\n",
       "      <td>...</td>\n",
       "      <td>...</td>\n",
       "      <td>...</td>\n",
       "      <td>...</td>\n",
       "      <td>...</td>\n",
       "      <td>...</td>\n",
       "      <td>...</td>\n",
       "      <td>...</td>\n",
       "      <td>...</td>\n",
       "      <td>...</td>\n",
       "      <td>...</td>\n",
       "      <td>...</td>\n",
       "      <td>...</td>\n",
       "      <td>...</td>\n",
       "      <td>...</td>\n",
       "      <td>...</td>\n",
       "      <td>...</td>\n",
       "      <td>...</td>\n",
       "      <td>...</td>\n",
       "    </tr>\n",
       "    <tr>\n",
       "      <th>295</th>\n",
       "      <td>0</td>\n",
       "      <td>0</td>\n",
       "      <td>Action Required</td>\n",
       "      <td></td>\n",
       "      <td>AV</td>\n",
       "      <td>0.00</td>\n",
       "      <td>0.00</td>\n",
       "      <td>0.00</td>\n",
       "      <td>0.00</td>\n",
       "      <td>0.00</td>\n",
       "      <td></td>\n",
       "      <td></td>\n",
       "      <td></td>\n",
       "      <td>False</td>\n",
       "      <td>0.00</td>\n",
       "      <td></td>\n",
       "      <td>0.00</td>\n",
       "      <td>0.00</td>\n",
       "      <td>#DIV/0!</td>\n",
       "    </tr>\n",
       "    <tr>\n",
       "      <th>296</th>\n",
       "      <td></td>\n",
       "      <td></td>\n",
       "      <td></td>\n",
       "      <td></td>\n",
       "      <td>JW</td>\n",
       "      <td>0.00</td>\n",
       "      <td>0.00</td>\n",
       "      <td>0.00</td>\n",
       "      <td>0.00</td>\n",
       "      <td>0.00</td>\n",
       "      <td></td>\n",
       "      <td></td>\n",
       "      <td></td>\n",
       "      <td>False</td>\n",
       "      <td>0.00</td>\n",
       "      <td></td>\n",
       "      <td>0.00</td>\n",
       "      <td>0.00</td>\n",
       "      <td>#DIV/0!</td>\n",
       "    </tr>\n",
       "    <tr>\n",
       "      <th>297</th>\n",
       "      <td></td>\n",
       "      <td></td>\n",
       "      <td></td>\n",
       "      <td></td>\n",
       "      <td>NH</td>\n",
       "      <td>0.00</td>\n",
       "      <td>0.00</td>\n",
       "      <td>0.00</td>\n",
       "      <td>0.00</td>\n",
       "      <td>0.00</td>\n",
       "      <td></td>\n",
       "      <td></td>\n",
       "      <td></td>\n",
       "      <td>False</td>\n",
       "      <td>0.00</td>\n",
       "      <td></td>\n",
       "      <td>0.00</td>\n",
       "      <td>0.00</td>\n",
       "      <td>#DIV/0!</td>\n",
       "    </tr>\n",
       "    <tr>\n",
       "      <th>298</th>\n",
       "      <td></td>\n",
       "      <td></td>\n",
       "      <td></td>\n",
       "      <td></td>\n",
       "      <td>RO</td>\n",
       "      <td>0.00</td>\n",
       "      <td>0.00</td>\n",
       "      <td>0.00</td>\n",
       "      <td>0.00</td>\n",
       "      <td>0.00</td>\n",
       "      <td></td>\n",
       "      <td></td>\n",
       "      <td></td>\n",
       "      <td>False</td>\n",
       "      <td>0.00</td>\n",
       "      <td></td>\n",
       "      <td>0.00</td>\n",
       "      <td>0.00</td>\n",
       "      <td>#DIV/0!</td>\n",
       "    </tr>\n",
       "    <tr>\n",
       "      <th>299</th>\n",
       "      <td></td>\n",
       "      <td></td>\n",
       "      <td></td>\n",
       "      <td></td>\n",
       "      <td></td>\n",
       "      <td></td>\n",
       "      <td></td>\n",
       "      <td></td>\n",
       "      <td></td>\n",
       "      <td></td>\n",
       "      <td></td>\n",
       "      <td></td>\n",
       "      <td></td>\n",
       "      <td>False</td>\n",
       "      <td></td>\n",
       "      <td></td>\n",
       "      <td>3.00</td>\n",
       "      <td></td>\n",
       "      <td></td>\n",
       "    </tr>\n",
       "  </tbody>\n",
       "</table>\n",
       "<p>300 rows × 19 columns</p>\n",
       "</div>"
      ],
      "text/plain": [
       "          status site_no               address  \\\n",
       "0           Done       1        525 N 125TH ST   \n",
       "1           Done       2  12245 EVANSTON AVE N   \n",
       "2           Done       3        522 N 122ND ST   \n",
       "3     In Process       4        523 N 122ND ST   \n",
       "4    Not Started       5  12043 EVANSTON AVE N   \n",
       "..           ...     ...                   ...   \n",
       "295            0       0       Action Required   \n",
       "296                                              \n",
       "297                                              \n",
       "298                                              \n",
       "299                                              \n",
       "\n",
       "                         full_address contact rmvl_rqust  \\\n",
       "0          525 N 125TH ST Seattle, WA      DH              \n",
       "1    12245 EVANSTON AVE N Seattle, WA      SH              \n",
       "2          522 N 122ND ST Seattle, WA      DH              \n",
       "3          523 N 122ND ST Seattle, WA      DH              \n",
       "4    12043 EVANSTON AVE N Seattle, WA      DH              \n",
       "..                                ...     ...        ...   \n",
       "295                                        AV       0.00   \n",
       "296                                        JW       0.00   \n",
       "297                                        NH       0.00   \n",
       "298                                        RO       0.00   \n",
       "299                                                        \n",
       "\n",
       "                                      work_description   nbw  \\\n",
       "0                                 ST CEDAR ON EVANSTON         \n",
       "1                           ST FIR & PINE / CLEAR POLE         \n",
       "2                        TT APPLE FOR NEUTRAL ON 122ND         \n",
       "3    ST CEDARS & FIR / TTS PINES / CLEAR POLE / WOR...         \n",
       "4                    TTS DEODAR AND MAPLE / CLEAR POLE         \n",
       "..                                                 ...   ...   \n",
       "295                                               0.00  0.00   \n",
       "296                                               0.00  0.00   \n",
       "297                                               0.00  0.00   \n",
       "298                                               0.00  0.00   \n",
       "299                                                            \n",
       "\n",
       "    owner_phone_comments projected_hours regular_ no_parks flagging  \\\n",
       "0                                   0.75        X                     \n",
       "1                                   1.00        X                     \n",
       "2                                   0.75        X                     \n",
       "3                                   2.00        X                     \n",
       "4                                   1.00        X                     \n",
       "..                   ...             ...      ...      ...      ...   \n",
       "295                 0.00            0.00                              \n",
       "296                 0.00            0.00                              \n",
       "297                 0.00            0.00                              \n",
       "298                 0.00            0.00                              \n",
       "299                                                                   \n",
       "\n",
       "     requires_squirt_boom merge          site_type notes trim_date sign_off  \n",
       "0                   False         RegularCompleted         6/14/23    H.M.R  \n",
       "1                   False         RegularCompleted         6/15/23    H.M.R  \n",
       "2                   False         RegularCompleted         6/15/23    H.M.R  \n",
       "3                   False        RegularIn Process                           \n",
       "4                   False                 Regular                            \n",
       "..                    ...   ...                ...   ...       ...      ...  \n",
       "295                 False  0.00                     0.00      0.00  #DIV/0!  \n",
       "296                 False  0.00                     0.00      0.00  #DIV/0!  \n",
       "297                 False  0.00                     0.00      0.00  #DIV/0!  \n",
       "298                 False  0.00                     0.00      0.00  #DIV/0!  \n",
       "299                 False                           3.00                     \n",
       "\n",
       "[300 rows x 19 columns]"
      ]
     },
     "execution_count": 48,
     "metadata": {},
     "output_type": "execute_result"
    }
   ],
   "source": [
    "raw"
   ]
  },
  {
   "cell_type": "code",
   "execution_count": 46,
   "id": "60d0ed8c",
   "metadata": {
    "ExecuteTime": {
     "end_time": "2023-06-18T22:56:56.012835Z",
     "start_time": "2023-06-18T22:56:55.967187Z"
    }
   },
   "outputs": [
    {
     "data": {
      "text/plain": [
       "0.0033333333333333335"
      ]
     },
     "execution_count": 46,
     "metadata": {},
     "output_type": "execute_result"
    }
   ],
   "source": [
    "raw.requires_squirt_boom.mean()"
   ]
  },
  {
   "cell_type": "code",
   "execution_count": null,
   "id": "4f6efa51",
   "metadata": {},
   "outputs": [],
   "source": []
  }
 ],
 "metadata": {
  "kernelspec": {
   "display_name": ".kwenv",
   "language": "python",
   "name": ".kwenv"
  },
  "language_info": {
   "codemirror_mode": {
    "name": "ipython",
    "version": 3
   },
   "file_extension": ".py",
   "mimetype": "text/x-python",
   "name": "python",
   "nbconvert_exporter": "python",
   "pygments_lexer": "ipython3",
   "version": "3.11.1"
  },
  "toc": {
   "base_numbering": 1,
   "nav_menu": {},
   "number_sections": true,
   "sideBar": true,
   "skip_h1_title": false,
   "title_cell": "Table of Contents",
   "title_sidebar": "Contents",
   "toc_cell": false,
   "toc_position": {},
   "toc_section_display": true,
   "toc_window_display": false
  }
 },
 "nbformat": 4,
 "nbformat_minor": 5
}
