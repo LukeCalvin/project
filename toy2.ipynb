{
 "cells": [
  {
   "cell_type": "code",
   "execution_count": 6,
   "id": "161f8ba9",
   "metadata": {},
   "outputs": [],
   "source": [
    "from sklearn.cluster import KMeans\n",
    "import numpy as np\n",
    "import pandas as pd\n",
    "from matplotlib import pyplot as plt"
   ]
  },
  {
   "cell_type": "code",
   "execution_count": 37,
   "id": "d92468da",
   "metadata": {},
   "outputs": [
    {
     "data": {
      "text/html": [
       "<div>\n",
       "<style scoped>\n",
       "    .dataframe tbody tr th:only-of-type {\n",
       "        vertical-align: middle;\n",
       "    }\n",
       "\n",
       "    .dataframe tbody tr th {\n",
       "        vertical-align: top;\n",
       "    }\n",
       "\n",
       "    .dataframe thead th {\n",
       "        text-align: right;\n",
       "    }\n",
       "</style>\n",
       "<table border=\"1\" class=\"dataframe\">\n",
       "  <thead>\n",
       "    <tr style=\"text-align: right;\">\n",
       "      <th></th>\n",
       "      <th>0</th>\n",
       "      <th>Y</th>\n",
       "      <th>X</th>\n",
       "    </tr>\n",
       "  </thead>\n",
       "  <tbody>\n",
       "    <tr>\n",
       "      <th>0</th>\n",
       "      <td>12.44</td>\n",
       "      <td>0.63</td>\n",
       "      <td>8.30</td>\n",
       "    </tr>\n",
       "    <tr>\n",
       "      <th>1</th>\n",
       "      <td>12.52</td>\n",
       "      <td>3.25</td>\n",
       "      <td>12.15</td>\n",
       "    </tr>\n",
       "    <tr>\n",
       "      <th>2</th>\n",
       "      <td>15.93</td>\n",
       "      <td>14.98</td>\n",
       "      <td>9.68</td>\n",
       "    </tr>\n",
       "    <tr>\n",
       "      <th>3</th>\n",
       "      <td>8.56</td>\n",
       "      <td>10.43</td>\n",
       "      <td>4.05</td>\n",
       "    </tr>\n",
       "    <tr>\n",
       "      <th>4</th>\n",
       "      <td>7.68</td>\n",
       "      <td>4.64</td>\n",
       "      <td>11.35</td>\n",
       "    </tr>\n",
       "    <tr>\n",
       "      <th>5</th>\n",
       "      <td>14.92</td>\n",
       "      <td>2.05</td>\n",
       "      <td>1.15</td>\n",
       "    </tr>\n",
       "    <tr>\n",
       "      <th>6</th>\n",
       "      <td>9.62</td>\n",
       "      <td>18.15</td>\n",
       "      <td>11.97</td>\n",
       "    </tr>\n",
       "    <tr>\n",
       "      <th>7</th>\n",
       "      <td>18.84</td>\n",
       "      <td>3.82</td>\n",
       "      <td>16.18</td>\n",
       "    </tr>\n",
       "    <tr>\n",
       "      <th>8</th>\n",
       "      <td>14.58</td>\n",
       "      <td>6.17</td>\n",
       "      <td>4.83</td>\n",
       "    </tr>\n",
       "    <tr>\n",
       "      <th>9</th>\n",
       "      <td>0.33</td>\n",
       "      <td>2.29</td>\n",
       "      <td>5.03</td>\n",
       "    </tr>\n",
       "    <tr>\n",
       "      <th>10</th>\n",
       "      <td>3.83</td>\n",
       "      <td>9.60</td>\n",
       "      <td>3.27</td>\n",
       "    </tr>\n",
       "    <tr>\n",
       "      <th>11</th>\n",
       "      <td>2.03</td>\n",
       "      <td>14.44</td>\n",
       "      <td>7.73</td>\n",
       "    </tr>\n",
       "    <tr>\n",
       "      <th>12</th>\n",
       "      <td>19.27</td>\n",
       "      <td>11.92</td>\n",
       "      <td>5.75</td>\n",
       "    </tr>\n",
       "    <tr>\n",
       "      <th>13</th>\n",
       "      <td>4.95</td>\n",
       "      <td>6.55</td>\n",
       "      <td>16.26</td>\n",
       "    </tr>\n",
       "    <tr>\n",
       "      <th>14</th>\n",
       "      <td>5.75</td>\n",
       "      <td>8.64</td>\n",
       "      <td>6.55</td>\n",
       "    </tr>\n",
       "    <tr>\n",
       "      <th>15</th>\n",
       "      <td>10.18</td>\n",
       "      <td>2.49</td>\n",
       "      <td>6.60</td>\n",
       "    </tr>\n",
       "    <tr>\n",
       "      <th>16</th>\n",
       "      <td>4.28</td>\n",
       "      <td>17.83</td>\n",
       "      <td>17.10</td>\n",
       "    </tr>\n",
       "    <tr>\n",
       "      <th>17</th>\n",
       "      <td>15.20</td>\n",
       "      <td>3.04</td>\n",
       "      <td>18.39</td>\n",
       "    </tr>\n",
       "    <tr>\n",
       "      <th>18</th>\n",
       "      <td>4.87</td>\n",
       "      <td>2.74</td>\n",
       "      <td>3.70</td>\n",
       "    </tr>\n",
       "    <tr>\n",
       "      <th>19</th>\n",
       "      <td>7.54</td>\n",
       "      <td>1.44</td>\n",
       "      <td>11.40</td>\n",
       "    </tr>\n",
       "    <tr>\n",
       "      <th>20</th>\n",
       "      <td>12.99</td>\n",
       "      <td>6.29</td>\n",
       "      <td>17.96</td>\n",
       "    </tr>\n",
       "  </tbody>\n",
       "</table>\n",
       "</div>"
      ],
      "text/plain": [
       "        0      Y      X\n",
       "0   12.44   0.63   8.30\n",
       "1   12.52   3.25  12.15\n",
       "2   15.93  14.98   9.68\n",
       "3    8.56  10.43   4.05\n",
       "4    7.68   4.64  11.35\n",
       "5   14.92   2.05   1.15\n",
       "6    9.62  18.15  11.97\n",
       "7   18.84   3.82  16.18\n",
       "8   14.58   6.17   4.83\n",
       "9    0.33   2.29   5.03\n",
       "10   3.83   9.60   3.27\n",
       "11   2.03  14.44   7.73\n",
       "12  19.27  11.92   5.75\n",
       "13   4.95   6.55  16.26\n",
       "14   5.75   8.64   6.55\n",
       "15  10.18   2.49   6.60\n",
       "16   4.28  17.83  17.10\n",
       "17  15.20   3.04  18.39\n",
       "18   4.87   2.74   3.70\n",
       "19   7.54   1.44  11.40\n",
       "20  12.99   6.29  17.96"
      ]
     },
     "execution_count": 37,
     "metadata": {},
     "output_type": "execute_result"
    }
   ],
   "source": [
    "df = pd.DataFrame(np.random.uniform(0,20,21)).round(2)\n",
    "df['Y'] = pd.DataFrame(np.random.uniform(0,20,21)).round(2)\n",
    "df['X'] = pd.DataFrame(np.random.uniform(0,20,21)).round(2)\n",
    "df.head(21)"
   ]
  },
  {
   "cell_type": "code",
   "execution_count": 26,
   "id": "a6a0781f",
   "metadata": {},
   "outputs": [
    {
     "data": {
      "text/plain": [
       "<matplotlib.collections.PathCollection at 0x157aef310>"
      ]
     },
     "execution_count": 26,
     "metadata": {},
     "output_type": "execute_result"
    },
    {
     "data": {
      "image/png": "[encoded data removed]",
      "text/plain": [
       "<Figure size 640x480 with 1 Axes>"
      ]
     },
     "metadata": {},
     "output_type": "display_data"
    }
   ],
   "source": [
    "plt.scatter(df['X'], df['Y'])"
   ]
  },
  {
   "cell_type": "code",
   "execution_count": 48,
   "id": "d4b4ab6b",
   "metadata": {},
   "outputs": [
    {
     "data": {
      "text/html": [
       "<style>#sk-container-id-1 {color: black;background-color: white;}#sk-container-id-1 pre{padding: 0;}#sk-container-id-1 div.sk-toggleable {background-color: white;}#sk-container-id-1 label.sk-toggleable__label {cursor: pointer;display: block;width: 100%;margin-bottom: 0;padding: 0.3em;box-sizing: border-box;text-align: center;}#sk-container-id-1 label.sk-toggleable__label-arrow:before {content: \"▸\";float: left;margin-right: 0.25em;color: #696969;}#sk-container-id-1 label.sk-toggleable__label-arrow:hover:before {color: black;}#sk-container-id-1 div.sk-estimator:hover label.sk-toggleable__label-arrow:before {color: black;}#sk-container-id-1 div.sk-toggleable__content {max-height: 0;max-width: 0;overflow: hidden;text-align: left;background-color: #f0f8ff;}#sk-container-id-1 div.sk-toggleable__content pre {margin: 0.2em;color: black;border-radius: 0.25em;background-color: #f0f8ff;}#sk-container-id-1 input.sk-toggleable__control:checked~div.sk-toggleable__content {max-height: 200px;max-width: 100%;overflow: auto;}#sk-container-id-1 input.sk-toggleable__control:checked~label.sk-toggleable__label-arrow:before {content: \"▾\";}#sk-container-id-1 div.sk-estimator input.sk-toggleable__control:checked~label.sk-toggleable__label {background-color: #d4ebff;}#sk-container-id-1 div.sk-label input.sk-toggleable__control:checked~label.sk-toggleable__label {background-color: #d4ebff;}#sk-container-id-1 input.sk-hidden--visually {border: 0;clip: rect(1px 1px 1px 1px);clip: rect(1px, 1px, 1px, 1px);height: 1px;margin: -1px;overflow: hidden;padding: 0;position: absolute;width: 1px;}#sk-container-id-1 div.sk-estimator {font-family: monospace;background-color: #f0f8ff;border: 1px dotted black;border-radius: 0.25em;box-sizing: border-box;margin-bottom: 0.5em;}#sk-container-id-1 div.sk-estimator:hover {background-color: #d4ebff;}#sk-container-id-1 div.sk-parallel-item::after {content: \"\";width: 100%;border-bottom: 1px solid gray;flex-grow: 1;}#sk-container-id-1 div.sk-label:hover label.sk-toggleable__label {background-color: #d4ebff;}#sk-container-id-1 div.sk-serial::before {content: \"\";position: absolute;border-left: 1px solid gray;box-sizing: border-box;top: 0;bottom: 0;left: 50%;z-index: 0;}#sk-container-id-1 div.sk-serial {display: flex;flex-direction: column;align-items: center;background-color: white;padding-right: 0.2em;padding-left: 0.2em;position: relative;}#sk-container-id-1 div.sk-item {position: relative;z-index: 1;}#sk-container-id-1 div.sk-parallel {display: flex;align-items: stretch;justify-content: center;background-color: white;position: relative;}#sk-container-id-1 div.sk-item::before, #sk-container-id-1 div.sk-parallel-item::before {content: \"\";position: absolute;border-left: 1px solid gray;box-sizing: border-box;top: 0;bottom: 0;left: 50%;z-index: -1;}#sk-container-id-1 div.sk-parallel-item {display: flex;flex-direction: column;z-index: 1;position: relative;background-color: white;}#sk-container-id-1 div.sk-parallel-item:first-child::after {align-self: flex-end;width: 50%;}#sk-container-id-1 div.sk-parallel-item:last-child::after {align-self: flex-start;width: 50%;}#sk-container-id-1 div.sk-parallel-item:only-child::after {width: 0;}#sk-container-id-1 div.sk-dashed-wrapped {border: 1px dashed gray;margin: 0 0.4em 0.5em 0.4em;box-sizing: border-box;padding-bottom: 0.4em;background-color: white;}#sk-container-id-1 div.sk-label label {font-family: monospace;font-weight: bold;display: inline-block;line-height: 1.2em;}#sk-container-id-1 div.sk-label-container {text-align: center;}#sk-container-id-1 div.sk-container {/* jupyter's `normalize.less` sets `[hidden] { display: none; }` but bootstrap.min.css set `[hidden] { display: none !important; }` so we also need the `!important` here to be able to override the default hidden behavior on the sphinx rendered scikit-learn.org. See: https://github.com/scikit-learn/scikit-learn/issues/21755 */display: inline-block !important;position: relative;}#sk-container-id-1 div.sk-text-repr-fallback {display: none;}</style><div id=\"sk-container-id-1\" class=\"sk-top-container\"><div class=\"sk-text-repr-fallback\"><pre>KMeans(n_clusters=6)</pre><b>In a Jupyter environment, please rerun this cell to show the HTML representation or trust the notebook. <br />On GitHub, the HTML representation is unable to render, please try loading this page with nbviewer.org.</b></div><div class=\"sk-container\" hidden><div class=\"sk-item\"><div class=\"sk-estimator sk-toggleable\"><input class=\"sk-toggleable__control sk-hidden--visually\" id=\"sk-estimator-id-1\" type=\"checkbox\" checked><label for=\"sk-estimator-id-1\" class=\"sk-toggleable__label sk-toggleable__label-arrow\">KMeans</label><div class=\"sk-toggleable__content\"><pre>KMeans(n_clusters=6)</pre></div></div></div></div></div>"
      ],
      "text/plain": [
       "KMeans(n_clusters=6)"
      ]
     },
     "execution_count": 48,
     "metadata": {},
     "output_type": "execute_result"
    }
   ],
   "source": [
    "kmeans = KMeans(n_clusters=6)\n",
    "kmeans"
   ]
  },
  {
   "cell_type": "code",
   "execution_count": 51,
   "id": "be623ebc",
   "metadata": {},
   "outputs": [
    {
     "name": "stderr",
     "output_type": "stream",
     "text": [
      "/Library/Frameworks/Python.framework/Versions/3.11/lib/python3.11/site-packages/sklearn/cluster/_kmeans.py:870: FutureWarning: The default value of `n_init` will change from 10 to 'auto' in 1.4. Set the value of `n_init` explicitly to suppress the warning\n",
      "  warnings.warn(\n"
     ]
    },
    {
     "data": {
      "text/plain": [
       "array([0, 0, 5, 1, 0, 3, 2, 4, 3, 3, 1, 5, 1, 4, 1, 3, 2, 4, 3, 0, 4],\n",
       "      dtype=int32)"
      ]
     },
     "execution_count": 51,
     "metadata": {},
     "output_type": "execute_result"
    }
   ],
   "source": [
    "predicted = kmeans.fit_predict(df[['X','Y']])\n",
    "predicted"
   ]
  },
  {
   "cell_type": "code",
   "execution_count": 52,
   "id": "e854d130",
   "metadata": {},
   "outputs": [
    {
     "data": {
      "text/html": [
       "<div>\n",
       "<style scoped>\n",
       "    .dataframe tbody tr th:only-of-type {\n",
       "        vertical-align: middle;\n",
       "    }\n",
       "\n",
       "    .dataframe tbody tr th {\n",
       "        vertical-align: top;\n",
       "    }\n",
       "\n",
       "    .dataframe thead th {\n",
       "        text-align: right;\n",
       "    }\n",
       "</style>\n",
       "<table border=\"1\" class=\"dataframe\">\n",
       "  <thead>\n",
       "    <tr style=\"text-align: right;\">\n",
       "      <th></th>\n",
       "      <th>0</th>\n",
       "      <th>Y</th>\n",
       "      <th>X</th>\n",
       "      <th>cluster</th>\n",
       "    </tr>\n",
       "  </thead>\n",
       "  <tbody>\n",
       "    <tr>\n",
       "      <th>0</th>\n",
       "      <td>12.44</td>\n",
       "      <td>0.63</td>\n",
       "      <td>8.30</td>\n",
       "      <td>0</td>\n",
       "    </tr>\n",
       "    <tr>\n",
       "      <th>1</th>\n",
       "      <td>12.52</td>\n",
       "      <td>3.25</td>\n",
       "      <td>12.15</td>\n",
       "      <td>0</td>\n",
       "    </tr>\n",
       "    <tr>\n",
       "      <th>2</th>\n",
       "      <td>15.93</td>\n",
       "      <td>14.98</td>\n",
       "      <td>9.68</td>\n",
       "      <td>5</td>\n",
       "    </tr>\n",
       "    <tr>\n",
       "      <th>3</th>\n",
       "      <td>8.56</td>\n",
       "      <td>10.43</td>\n",
       "      <td>4.05</td>\n",
       "      <td>1</td>\n",
       "    </tr>\n",
       "    <tr>\n",
       "      <th>4</th>\n",
       "      <td>7.68</td>\n",
       "      <td>4.64</td>\n",
       "      <td>11.35</td>\n",
       "      <td>0</td>\n",
       "    </tr>\n",
       "    <tr>\n",
       "      <th>5</th>\n",
       "      <td>14.92</td>\n",
       "      <td>2.05</td>\n",
       "      <td>1.15</td>\n",
       "      <td>3</td>\n",
       "    </tr>\n",
       "    <tr>\n",
       "      <th>6</th>\n",
       "      <td>9.62</td>\n",
       "      <td>18.15</td>\n",
       "      <td>11.97</td>\n",
       "      <td>2</td>\n",
       "    </tr>\n",
       "    <tr>\n",
       "      <th>7</th>\n",
       "      <td>18.84</td>\n",
       "      <td>3.82</td>\n",
       "      <td>16.18</td>\n",
       "      <td>4</td>\n",
       "    </tr>\n",
       "    <tr>\n",
       "      <th>8</th>\n",
       "      <td>14.58</td>\n",
       "      <td>6.17</td>\n",
       "      <td>4.83</td>\n",
       "      <td>3</td>\n",
       "    </tr>\n",
       "    <tr>\n",
       "      <th>9</th>\n",
       "      <td>0.33</td>\n",
       "      <td>2.29</td>\n",
       "      <td>5.03</td>\n",
       "      <td>3</td>\n",
       "    </tr>\n",
       "    <tr>\n",
       "      <th>10</th>\n",
       "      <td>3.83</td>\n",
       "      <td>9.60</td>\n",
       "      <td>3.27</td>\n",
       "      <td>1</td>\n",
       "    </tr>\n",
       "    <tr>\n",
       "      <th>11</th>\n",
       "      <td>2.03</td>\n",
       "      <td>14.44</td>\n",
       "      <td>7.73</td>\n",
       "      <td>5</td>\n",
       "    </tr>\n",
       "    <tr>\n",
       "      <th>12</th>\n",
       "      <td>19.27</td>\n",
       "      <td>11.92</td>\n",
       "      <td>5.75</td>\n",
       "      <td>1</td>\n",
       "    </tr>\n",
       "    <tr>\n",
       "      <th>13</th>\n",
       "      <td>4.95</td>\n",
       "      <td>6.55</td>\n",
       "      <td>16.26</td>\n",
       "      <td>4</td>\n",
       "    </tr>\n",
       "    <tr>\n",
       "      <th>14</th>\n",
       "      <td>5.75</td>\n",
       "      <td>8.64</td>\n",
       "      <td>6.55</td>\n",
       "      <td>1</td>\n",
       "    </tr>\n",
       "    <tr>\n",
       "      <th>15</th>\n",
       "      <td>10.18</td>\n",
       "      <td>2.49</td>\n",
       "      <td>6.60</td>\n",
       "      <td>3</td>\n",
       "    </tr>\n",
       "    <tr>\n",
       "      <th>16</th>\n",
       "      <td>4.28</td>\n",
       "      <td>17.83</td>\n",
       "      <td>17.10</td>\n",
       "      <td>2</td>\n",
       "    </tr>\n",
       "    <tr>\n",
       "      <th>17</th>\n",
       "      <td>15.20</td>\n",
       "      <td>3.04</td>\n",
       "      <td>18.39</td>\n",
       "      <td>4</td>\n",
       "    </tr>\n",
       "    <tr>\n",
       "      <th>18</th>\n",
       "      <td>4.87</td>\n",
       "      <td>2.74</td>\n",
       "      <td>3.70</td>\n",
       "      <td>3</td>\n",
       "    </tr>\n",
       "    <tr>\n",
       "      <th>19</th>\n",
       "      <td>7.54</td>\n",
       "      <td>1.44</td>\n",
       "      <td>11.40</td>\n",
       "      <td>0</td>\n",
       "    </tr>\n",
       "    <tr>\n",
       "      <th>20</th>\n",
       "      <td>12.99</td>\n",
       "      <td>6.29</td>\n",
       "      <td>17.96</td>\n",
       "      <td>4</td>\n",
       "    </tr>\n",
       "  </tbody>\n",
       "</table>\n",
       "</div>"
      ],
      "text/plain": [
       "        0      Y      X  cluster\n",
       "0   12.44   0.63   8.30        0\n",
       "1   12.52   3.25  12.15        0\n",
       "2   15.93  14.98   9.68        5\n",
       "3    8.56  10.43   4.05        1\n",
       "4    7.68   4.64  11.35        0\n",
       "5   14.92   2.05   1.15        3\n",
       "6    9.62  18.15  11.97        2\n",
       "7   18.84   3.82  16.18        4\n",
       "8   14.58   6.17   4.83        3\n",
       "9    0.33   2.29   5.03        3\n",
       "10   3.83   9.60   3.27        1\n",
       "11   2.03  14.44   7.73        5\n",
       "12  19.27  11.92   5.75        1\n",
       "13   4.95   6.55  16.26        4\n",
       "14   5.75   8.64   6.55        1\n",
       "15  10.18   2.49   6.60        3\n",
       "16   4.28  17.83  17.10        2\n",
       "17  15.20   3.04  18.39        4\n",
       "18   4.87   2.74   3.70        3\n",
       "19   7.54   1.44  11.40        0\n",
       "20  12.99   6.29  17.96        4"
      ]
     },
     "execution_count": 52,
     "metadata": {},
     "output_type": "execute_result"
    }
   ],
   "source": [
    "df['cluster'] = predicted\n",
    "df"
   ]
  },
  {
   "cell_type": "code",
   "execution_count": 55,
   "id": "cebc801e",
   "metadata": {},
   "outputs": [
    {
     "data": {
      "text/plain": [
       "<matplotlib.collections.PathCollection at 0x28af77ad0>"
      ]
     },
     "execution_count": 55,
     "metadata": {},
     "output_type": "execute_result"
    },
    {
     "data": {
      "image/png": "[encoded data removed]",
      "text/plain": [
       "<Figure size 640x480 with 1 Axes>"
      ]
     },
     "metadata": {},
     "output_type": "display_data"
    }
   ],
   "source": [
    "df1 = df[df.cluster == 0]\n",
    "df2 = df[df.cluster == 1]\n",
    "df3 = df[df.cluster == 2]\n",
    "df4 = df[df.cluster == 3]\n",
    "df5 = df[df.cluster == 4]\n",
    "df6 = df[df.cluster == 5]\n",
    "\n",
    "plt.scatter(df1.X, df1.Y, color='green')\n",
    "plt.scatter(df2.X, df2.Y, color='yellow')\n",
    "plt.scatter(df3.X, df3.Y, color='blue')\n",
    "plt.scatter(df4.X, df4.Y, color='red')\n",
    "plt.scatter(df5.X, df5.Y, color='purple')\n",
    "plt.scatter(df6.X, df6.Y, color='orange')"
   ]
  },
  {
   "cell_type": "code",
   "execution_count": 3,
   "id": "4f04d0f1",
   "metadata": {},
   "outputs": [
    {
     "name": "stdout",
     "output_type": "stream",
     "text": [
      "checking 2788 - Viewland...\n"
     ]
    },
    {
     "ename": "SheetAssumptionViolated",
     "evalue": "Unexpected values in [['A245'], ['J132', 'J244', 'J258', 'J259']]",
     "output_type": "error",
     "traceback": [
      "\u001b[0;31m---------------------------------------------------------------------------\u001b[0m",
      "\u001b[0;31mSheetAssumptionViolated\u001b[0m                   Traceback (most recent call last)",
      "Cell \u001b[0;32mIn[3], line 5\u001b[0m\n\u001b[1;32m      3\u001b[0m test_sheet \u001b[38;5;241m=\u001b[39m wb\u001b[38;5;241m.\u001b[39mget_worksheet_by_id(sheet_id)\n\u001b[1;32m      4\u001b[0m \u001b[38;5;28mprint\u001b[39m(\u001b[38;5;124mf\u001b[39m\u001b[38;5;124m\"\u001b[39m\u001b[38;5;124mchecking \u001b[39m\u001b[38;5;132;01m{\u001b[39;00mtest_sheet\u001b[38;5;241m.\u001b[39mtitle\u001b[38;5;132;01m}\u001b[39;00m\u001b[38;5;124m...\u001b[39m\u001b[38;5;124m\"\u001b[39m)\n\u001b[0;32m----> 5\u001b[0m \u001b[43mvalidate_sheet\u001b[49m\u001b[43m(\u001b[49m\u001b[43mtest_sheet\u001b[49m\u001b[43m)\u001b[49m\n",
      "File \u001b[0;32m~/kemp/skeleton/project/validate.py:27\u001b[0m, in \u001b[0;36mvalidate_sheet\u001b[0;34m(sheet)\u001b[0m\n\u001b[1;32m     25\u001b[0m col_val_error_msg \u001b[38;5;241m=\u001b[39m validate_col_val(sheet)\n\u001b[1;32m     26\u001b[0m \u001b[38;5;28;01mif\u001b[39;00m col_val_error_msg \u001b[38;5;129;01mis\u001b[39;00m \u001b[38;5;129;01mnot\u001b[39;00m \u001b[38;5;28;01mNone\u001b[39;00m:\n\u001b[0;32m---> 27\u001b[0m     \u001b[38;5;28;01mraise\u001b[39;00m SheetAssumptionViolated(col_val_error_msg)\n",
      "\u001b[0;31mSheetAssumptionViolated\u001b[0m: Unexpected values in [['A245'], ['J132', 'J244', 'J258', 'J259']]"
     ]
    }
   ],
   "source": [
    "# this function is working\n",
    "for sheet_id in [223128104]:\n",
    "    test_sheet = wb.get_worksheet_by_id(sheet_id)\n",
    "    print(f\"checking {test_sheet.title}...\")\n",
    "    validate_sheet(test_sheet)"
   ]
  },
  {
   "cell_type": "code",
   "execution_count": 1,
   "id": "601816a4",
   "metadata": {},
   "outputs": [
    {
     "data": {
      "text/plain": [
       "[<Worksheet 'Sno PUD Template' id:190073933>,\n",
       " <Worksheet 'SCL TEMPLATE NEW!' id:1935572229>,\n",
       " <Worksheet 'Copy of SCL TEMPLATE NEW!' id:330042612>,\n",
       " <Worksheet '2788 - Viewland' id:223128104>,\n",
       " <Worksheet '2656 - Broad' id:366832978>,\n",
       " <Worksheet '2665 University' id:1059478635>,\n",
       " <Worksheet 'Copy of 2665 University' id:900012618>,\n",
       " <Worksheet '2760 - East Pine' id:1242704408>,\n",
       " <Worksheet '2659 - Broad' id:1637682286>,\n",
       " <Worksheet '2659 - Audit Report ' id:1699156638>,\n",
       " <Worksheet 'Metrics' id:199590548>,\n",
       " <Worksheet 'Feeder XXX' id:1566579358>,\n",
       " <Worksheet 'Dashboard 1 ' id:937004904>,\n",
       " <Worksheet 'Home' id:1426500379>,\n",
       " <Worksheet 'Dashboard' id:286559239>,\n",
       " <Worksheet '2656 NP Tracker' id:416940292>,\n",
       " <Worksheet '2665 NP Tracker ' id:997235541>,\n",
       " <Worksheet '2760 NP Tracker ' id:1036009459>,\n",
       " <Worksheet '2659 NP Tracker ' id:877680666>]"
      ]
     },
     "execution_count": 1,
     "metadata": {},
     "output_type": "execute_result"
    }
   ],
   "source": [
    "import numpy as np\n",
    "import pandas as pd\n",
    "import gspread\n",
    "from validate import *\n",
    "client = gspread.service_account(filename=\"/Users/lukehakso/kemp/skeleton/project/jobtracker.json\")\n",
    "\n",
    "url = 'https://docs.google.com/spreadsheets/d/1M__pvslmhMRkXCl-7DEPc0PzvKj6qlgfc8antAd9hgI/edit#gid=223128104'\n",
    "sandbox_url = 'https://docs.google.com/spreadsheets/d/1Mab3WIIMxUuFdjzayu1kYBbeIf_-fsLI89vgx9GPKho/edit#gid=223128104'\n",
    "\n",
    "wb = client.open_by_url(sandbox_url)\n",
    "first_circuit = wb.get_worksheet_by_id(223128104)\n",
    "from gspread import Worksheet\n",
    "wb.worksheets()"
   ]
  },
  {
   "cell_type": "code",
   "execution_count": 15,
   "id": "90823d22",
   "metadata": {},
   "outputs": [
    {
     "data": {
      "text/plain": [
       "['STATUS',\n",
       " 'SITE #',\n",
       " 'ADDRESS',\n",
       " 'Full Address',\n",
       " 'CONTACT',\n",
       " 'RMVL RQUST',\n",
       " 'WORK DESCRIPTION',\n",
       " 'NBW',\n",
       " 'OWNER / PHONE / COMMENTS',\n",
       " 'PROJECTED HOURS',\n",
       " 'Regular ',\n",
       " 'NO PARKS',\n",
       " 'FLAGGING',\n",
       " 'SQUIRT BOOM',\n",
       " 'MERGE',\n",
       " 'Site Type',\n",
       " 'NOTES',\n",
       " 'TRIM DATE',\n",
       " 'SIGN OFF',\n",
       " 'SURVEY Y/N']"
      ]
     },
     "execution_count": 15,
     "metadata": {},
     "output_type": "execute_result"
    }
   ],
   "source": [
    "test_sheet = wb.get_worksheet_by_id(223128104)\n",
    "test_sheet.get_values(\"A11:T11\")[0]"
   ]
  },
  {
   "cell_type": "code",
   "execution_count": null,
   "id": "613d3fcd",
   "metadata": {},
   "outputs": [],
   "source": []
  }
 ],
 "metadata": {
  "kernelspec": {
   "display_name": ".kwenv",
   "language": "python",
   "name": ".kwenv"
  },
  "language_info": {
   "codemirror_mode": {
    "name": "ipython",
    "version": 3
   },
   "file_extension": ".py",
   "mimetype": "text/x-python",
   "name": "python",
   "nbconvert_exporter": "python",
   "pygments_lexer": "ipython3",
   "version": "3.11.1"
  }
 },
 "nbformat": 4,
 "nbformat_minor": 5
}
