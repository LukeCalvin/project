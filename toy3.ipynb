{
 "cells": [
  {
   "cell_type": "code",
   "execution_count": null,
   "id": "1b1f8e90",
   "metadata": {},
   "outputs": [],
   "source": [
    "from sklearn.cluster import AgglomerativeClustering\n",
    "import pandas as pd\n",
    "import numpy as np\n",
    "distance_driving = pd.DataFrame(np.random.rand(10,10)).round(3)\n",
    "\n",
    "job_similarity_weight = 10\n",
    "\n",
    "distance_job_similarity = pd.DataFrame(np.random.rand(10,10)>0.2).astype(float)*job_similarity_weight\n",
    "\n",
    "\n",
    "distance_matrix = np.concatenate((distance_driving.values.reshape(10,10,-1),distance_job_similarity.values.reshape(10,10,-1)),axis=2).sum(axis=2)\n",
    "\n",
    "mdl = AgglomerativeClustering(n_clusters=2)\n",
    "\n",
    "prd = mdl.fit_predict(X=distance_matrix)\n",
    "\n",
    "df_matrix = pd.DataFrame(distance_matrix)\n",
    "\n",
    "plt.scatter(distance_job_similarity, distance_driving)"
   ]
  }
 ],
 "metadata": {
  "kernelspec": {
   "display_name": ".kwenv",
   "language": "python",
   "name": ".kwenv"
  },
  "language_info": {
   "codemirror_mode": {
    "name": "ipython",
    "version": 3
   },
   "file_extension": ".py",
   "mimetype": "text/x-python",
   "name": "python",
   "nbconvert_exporter": "python",
   "pygments_lexer": "ipython3",
   "version": "3.11.1"
  }
 },
 "nbformat": 4,
 "nbformat_minor": 5
}
