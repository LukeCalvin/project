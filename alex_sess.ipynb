{
 "cells": [
  {
   "cell_type": "code",
   "execution_count": 78,
   "id": "161f8ba9",
   "metadata": {
    "ExecuteTime": {
     "end_time": "2023-06-19T00:30:31.376652Z",
     "start_time": "2023-06-19T00:30:31.334994Z"
    }
   },
   "outputs": [],
   "source": [
    "import numpy as np\n",
    "import pandas as pd\n",
    "import gspread\n",
    "from validate import HEADER_RANGE, validate_header"
   ]
  },
  {
   "cell_type": "code",
   "execution_count": 11,
   "id": "79f47187",
   "metadata": {
    "ExecuteTime": {
     "end_time": "2023-06-18T22:32:20.447836Z",
     "start_time": "2023-06-18T22:32:20.370452Z"
    }
   },
   "outputs": [
    {
     "ename": "FileNotFoundError",
     "evalue": "[Errno 2] No such file or directory: '/Users/ahakso/Downloads/jobtracker.json'",
     "output_type": "error",
     "traceback": [
      "\u001b[0;31m---------------------------------------------------------------------------\u001b[0m",
      "\u001b[0;31mFileNotFoundError\u001b[0m                         Traceback (most recent call last)",
      "Cell \u001b[0;32mIn[11], line 1\u001b[0m\n\u001b[0;32m----> 1\u001b[0m client \u001b[38;5;241m=\u001b[39m \u001b[43mgspread\u001b[49m\u001b[38;5;241;43m.\u001b[39;49m\u001b[43mservice_account\u001b[49m\u001b[43m(\u001b[49m\u001b[43mfilename\u001b[49m\u001b[38;5;241;43m=\u001b[39;49m\u001b[38;5;124;43m\"\u001b[39;49m\u001b[38;5;124;43m/Users/ahakso/Downloads/jobtracker.json\u001b[39;49m\u001b[38;5;124;43m\"\u001b[39;49m\u001b[43m)\u001b[49m\n\u001b[1;32m      3\u001b[0m url \u001b[38;5;241m=\u001b[39m \u001b[38;5;124m'\u001b[39m\u001b[38;5;124mhttps://docs.google.com/spreadsheets/d/1M__pvslmhMRkXCl-7DEPc0PzvKj6qlgfc8antAd9hgI/edit#gid=223128104\u001b[39m\u001b[38;5;124m'\u001b[39m\n\u001b[1;32m      4\u001b[0m sandbox_url \u001b[38;5;241m=\u001b[39m \u001b[38;5;124m'\u001b[39m\u001b[38;5;124mhttps://docs.google.com/spreadsheets/d/1Mab3WIIMxUuFdjzayu1kYBbeIf_-fsLI89vgx9GPKho/edit#gid=223128104\u001b[39m\u001b[38;5;124m'\u001b[39m\n",
      "File \u001b[0;32m/Library/Frameworks/Python.framework/Versions/3.11/lib/python3.11/site-packages/gspread/auth.py:312\u001b[0m, in \u001b[0;36mservice_account\u001b[0;34m(filename, scopes, client_factory)\u001b[0m\n\u001b[1;32m    283\u001b[0m \u001b[38;5;28;01mdef\u001b[39;00m \u001b[38;5;21mservice_account\u001b[39m(\n\u001b[1;32m    284\u001b[0m     filename\u001b[38;5;241m=\u001b[39mDEFAULT_SERVICE_ACCOUNT_FILENAME,\n\u001b[1;32m    285\u001b[0m     scopes\u001b[38;5;241m=\u001b[39mDEFAULT_SCOPES,\n\u001b[1;32m    286\u001b[0m     client_factory\u001b[38;5;241m=\u001b[39mClient,\n\u001b[1;32m    287\u001b[0m ):\n\u001b[1;32m    288\u001b[0m \u001b[38;5;250m    \u001b[39m\u001b[38;5;124;03m\"\"\"Authenticate using a service account.\u001b[39;00m\n\u001b[1;32m    289\u001b[0m \n\u001b[1;32m    290\u001b[0m \u001b[38;5;124;03m    ``scopes`` parameter defaults to read/write scope available in\u001b[39;00m\n\u001b[0;32m   (...)\u001b[0m\n\u001b[1;32m    310\u001b[0m \u001b[38;5;124;03m    :rtype: :class:`gspread.client.Client`\u001b[39;00m\n\u001b[1;32m    311\u001b[0m \u001b[38;5;124;03m    \"\"\"\u001b[39;00m\n\u001b[0;32m--> 312\u001b[0m     creds \u001b[38;5;241m=\u001b[39m \u001b[43mServiceAccountCredentials\u001b[49m\u001b[38;5;241;43m.\u001b[39;49m\u001b[43mfrom_service_account_file\u001b[49m\u001b[43m(\u001b[49m\u001b[43mfilename\u001b[49m\u001b[43m,\u001b[49m\u001b[43m \u001b[49m\u001b[43mscopes\u001b[49m\u001b[38;5;241;43m=\u001b[39;49m\u001b[43mscopes\u001b[49m\u001b[43m)\u001b[49m\n\u001b[1;32m    313\u001b[0m     \u001b[38;5;28;01mreturn\u001b[39;00m client_factory(auth\u001b[38;5;241m=\u001b[39mcreds)\n",
      "File \u001b[0;32m/Library/Frameworks/Python.framework/Versions/3.11/lib/python3.11/site-packages/google/oauth2/service_account.py:241\u001b[0m, in \u001b[0;36mCredentials.from_service_account_file\u001b[0;34m(cls, filename, **kwargs)\u001b[0m\n\u001b[1;32m    229\u001b[0m \u001b[38;5;129m@classmethod\u001b[39m\n\u001b[1;32m    230\u001b[0m \u001b[38;5;28;01mdef\u001b[39;00m \u001b[38;5;21mfrom_service_account_file\u001b[39m(\u001b[38;5;28mcls\u001b[39m, filename, \u001b[38;5;241m*\u001b[39m\u001b[38;5;241m*\u001b[39mkwargs):\n\u001b[1;32m    231\u001b[0m \u001b[38;5;250m    \u001b[39m\u001b[38;5;124;03m\"\"\"Creates a Credentials instance from a service account json file.\u001b[39;00m\n\u001b[1;32m    232\u001b[0m \n\u001b[1;32m    233\u001b[0m \u001b[38;5;124;03m    Args:\u001b[39;00m\n\u001b[0;32m   (...)\u001b[0m\n\u001b[1;32m    239\u001b[0m \u001b[38;5;124;03m            credentials.\u001b[39;00m\n\u001b[1;32m    240\u001b[0m \u001b[38;5;124;03m    \"\"\"\u001b[39;00m\n\u001b[0;32m--> 241\u001b[0m     info, signer \u001b[38;5;241m=\u001b[39m \u001b[43m_service_account_info\u001b[49m\u001b[38;5;241;43m.\u001b[39;49m\u001b[43mfrom_filename\u001b[49m\u001b[43m(\u001b[49m\n\u001b[1;32m    242\u001b[0m \u001b[43m        \u001b[49m\u001b[43mfilename\u001b[49m\u001b[43m,\u001b[49m\u001b[43m \u001b[49m\u001b[43mrequire\u001b[49m\u001b[38;5;241;43m=\u001b[39;49m\u001b[43m[\u001b[49m\u001b[38;5;124;43m\"\u001b[39;49m\u001b[38;5;124;43mclient_email\u001b[39;49m\u001b[38;5;124;43m\"\u001b[39;49m\u001b[43m,\u001b[49m\u001b[43m \u001b[49m\u001b[38;5;124;43m\"\u001b[39;49m\u001b[38;5;124;43mtoken_uri\u001b[39;49m\u001b[38;5;124;43m\"\u001b[39;49m\u001b[43m]\u001b[49m\n\u001b[1;32m    243\u001b[0m \u001b[43m    \u001b[49m\u001b[43m)\u001b[49m\n\u001b[1;32m    244\u001b[0m     \u001b[38;5;28;01mreturn\u001b[39;00m \u001b[38;5;28mcls\u001b[39m\u001b[38;5;241m.\u001b[39m_from_signer_and_info(signer, info, \u001b[38;5;241m*\u001b[39m\u001b[38;5;241m*\u001b[39mkwargs)\n",
      "File \u001b[0;32m/Library/Frameworks/Python.framework/Versions/3.11/lib/python3.11/site-packages/google/auth/_service_account_info.py:80\u001b[0m, in \u001b[0;36mfrom_filename\u001b[0;34m(filename, require, use_rsa_signer)\u001b[0m\n\u001b[1;32m     66\u001b[0m \u001b[38;5;28;01mdef\u001b[39;00m \u001b[38;5;21mfrom_filename\u001b[39m(filename, require\u001b[38;5;241m=\u001b[39m\u001b[38;5;28;01mNone\u001b[39;00m, use_rsa_signer\u001b[38;5;241m=\u001b[39m\u001b[38;5;28;01mTrue\u001b[39;00m):\n\u001b[1;32m     67\u001b[0m \u001b[38;5;250m    \u001b[39m\u001b[38;5;124;03m\"\"\"Reads a Google service account JSON file and returns its parsed info.\u001b[39;00m\n\u001b[1;32m     68\u001b[0m \n\u001b[1;32m     69\u001b[0m \u001b[38;5;124;03m    Args:\u001b[39;00m\n\u001b[0;32m   (...)\u001b[0m\n\u001b[1;32m     78\u001b[0m \u001b[38;5;124;03m            info and a signer instance.\u001b[39;00m\n\u001b[1;32m     79\u001b[0m \u001b[38;5;124;03m    \"\"\"\u001b[39;00m\n\u001b[0;32m---> 80\u001b[0m     \u001b[38;5;28;01mwith\u001b[39;00m \u001b[43mio\u001b[49m\u001b[38;5;241;43m.\u001b[39;49m\u001b[43mopen\u001b[49m\u001b[43m(\u001b[49m\u001b[43mfilename\u001b[49m\u001b[43m,\u001b[49m\u001b[43m \u001b[49m\u001b[38;5;124;43m\"\u001b[39;49m\u001b[38;5;124;43mr\u001b[39;49m\u001b[38;5;124;43m\"\u001b[39;49m\u001b[43m,\u001b[49m\u001b[43m \u001b[49m\u001b[43mencoding\u001b[49m\u001b[38;5;241;43m=\u001b[39;49m\u001b[38;5;124;43m\"\u001b[39;49m\u001b[38;5;124;43mutf-8\u001b[39;49m\u001b[38;5;124;43m\"\u001b[39;49m\u001b[43m)\u001b[49m \u001b[38;5;28;01mas\u001b[39;00m json_file:\n\u001b[1;32m     81\u001b[0m         data \u001b[38;5;241m=\u001b[39m json\u001b[38;5;241m.\u001b[39mload(json_file)\n\u001b[1;32m     82\u001b[0m         \u001b[38;5;28;01mreturn\u001b[39;00m data, from_dict(data, require\u001b[38;5;241m=\u001b[39mrequire, use_rsa_signer\u001b[38;5;241m=\u001b[39muse_rsa_signer)\n",
      "\u001b[0;31mFileNotFoundError\u001b[0m: [Errno 2] No such file or directory: '/Users/ahakso/Downloads/jobtracker.json'"
     ]
    }
   ],
   "source": [
    "client = gspread.service_account(filename=\"/Users/ahakso/Downloads/jobtracker.json\")\n",
    "\n",
    "url = 'https://docs.google.com/spreadsheets/d/1M__pvslmhMRkXCl-7DEPc0PzvKj6qlgfc8antAd9hgI/edit#gid=223128104'\n",
    "sandbox_url = 'https://docs.google.com/spreadsheets/d/1Mab3WIIMxUuFdjzayu1kYBbeIf_-fsLI89vgx9GPKho/edit#gid=223128104'\n",
    "\n",
    "wb = client.open_by_url(sandbox_url)"
   ]
  },
  {
   "cell_type": "markdown",
   "id": "f41cb8d9",
   "metadata": {},
   "source": [
    "# Step 1: bring in the data & clean up\n"
   ]
  },
  {
   "cell_type": "code",
   "execution_count": 16,
   "id": "b0998f3c",
   "metadata": {
    "ExecuteTime": {
     "end_time": "2023-06-18T22:41:07.151688Z",
     "start_time": "2023-06-18T22:41:06.867429Z"
    }
   },
   "outputs": [],
   "source": [
    "first_circuit = wb.get_worksheet_by_id(223128104)"
   ]
  },
  {
   "cell_type": "code",
   "execution_count": 9,
   "id": "c0223ae6",
   "metadata": {
    "ExecuteTime": {
     "end_time": "2023-06-19T00:03:44.307053Z",
     "start_time": "2023-06-19T00:03:44.263597Z"
    }
   },
   "outputs": [],
   "source": [
    "from gspread import Worksheet"
   ]
  },
  {
   "cell_type": "code",
   "execution_count": 10,
   "id": "c439dea6",
   "metadata": {
    "ExecuteTime": {
     "end_time": "2023-06-19T00:28:02.832714Z",
     "start_time": "2023-06-19T00:28:02.204394Z"
    }
   },
   "outputs": [
    {
     "ename": "NameError",
     "evalue": "name 'wb' is not defined",
     "output_type": "error",
     "traceback": [
      "\u001b[0;31m---------------------------------------------------------------------------\u001b[0m",
      "\u001b[0;31mNameError\u001b[0m                                 Traceback (most recent call last)",
      "Cell \u001b[0;32mIn[10], line 1\u001b[0m\n\u001b[0;32m----> 1\u001b[0m \u001b[43mwb\u001b[49m\u001b[38;5;241m.\u001b[39mworksheets()\n",
      "\u001b[0;31mNameError\u001b[0m: name 'wb' is not defined"
     ]
    }
   ],
   "source": [
    "wb.worksheets()"
   ]
  },
  {
   "cell_type": "code",
   "execution_count": null,
   "id": "ebafe511",
   "metadata": {
    "ExecuteTime": {
     "end_time": "2023-06-19T00:11:06.342238Z",
     "start_time": "2023-06-19T00:11:05.369544Z"
    }
   },
   "outputs": [],
   "source": [
    "colnames = first_circuit.get_values(HEADER_RANGE)"
   ]
  },
  {
   "cell_type": "code",
   "execution_count": 31,
   "id": "270089ba",
   "metadata": {
    "ExecuteTime": {
     "end_time": "2023-06-18T22:51:03.123145Z",
     "start_time": "2023-06-18T22:51:02.808691Z"
    }
   },
   "outputs": [],
   "source": [
    "raw = pd.DataFrame(first_circuit.get_values('A14:T500',),columns=colnames[:-1])"
   ]
  },
  {
   "cell_type": "code",
   "execution_count": 42,
   "id": "11d2e82f",
   "metadata": {
    "ExecuteTime": {
     "end_time": "2023-06-18T22:56:30.680173Z",
     "start_time": "2023-06-18T22:56:30.640139Z"
    }
   },
   "outputs": [],
   "source": [
    "# list comprehension\n",
    "munged_columns = [\n",
    "    x.lower().replace(\" \", \"_\").replace(\"/\", \"\").replace(\"#\", \"no\").replace(\"__\", \"_\")\n",
    "    for x in raw.columns\n",
    "]\n",
    "raw.columns = munged_columns\n",
    "raw = raw.rename(columns={'squirt_boom': 'requires_squirt_boom'}).astype({'requires_squirt_boom': bool})"
   ]
  },
  {
   "cell_type": "markdown",
   "id": "d4687c45",
   "metadata": {},
   "source": [
    "## Validate data"
   ]
  },
  {
   "cell_type": "code",
   "execution_count": 77,
   "id": "8587281e",
   "metadata": {
    "ExecuteTime": {
     "end_time": "2023-06-19T00:29:26.666623Z",
     "start_time": "2023-06-19T00:29:24.920256Z"
    }
   },
   "outputs": [
    {
     "name": "stdout",
     "output_type": "stream",
     "text": [
      "checking 2788 - Viewland...\n",
      "checking 2656 - Broad...\n",
      "checking Metrics...\n",
      "PROJECTED HOURS not in the header range\n",
      "SQUIRT BOOM not in the header range\n",
      "Full Address not in the header range\n"
     ]
    }
   ],
   "source": [
    "# this function is working\n",
    "for sheet_id in [223128104,366832978,199590548]:\n",
    "    test_sheet = wb.get_worksheet_by_id(sheet_id)\n",
    "    print(f\"checking {test_sheet.title}...\")\n",
    "    validate_header(test_sheet, HEADER_RANGE)"
   ]
  },
  {
   "cell_type": "markdown",
   "id": "bc9d5cb7",
   "metadata": {},
   "source": [
    " # Start to measure \"distances\" between jobs"
   ]
  },
  {
   "cell_type": "markdown",
   "id": "b2b35f02",
   "metadata": {
    "ExecuteTime": {
     "end_time": "2023-06-18T22:57:21.580428Z",
     "start_time": "2023-06-18T22:57:21.537366Z"
    }
   },
   "source": [
    "## For now (maybe for always), never mix squirt & no squirt"
   ]
  },
  {
   "cell_type": "code",
   "execution_count": 86,
   "id": "92c8b56f",
   "metadata": {
    "ExecuteTime": {
     "end_time": "2023-06-19T00:34:00.813814Z",
     "start_time": "2023-06-19T00:34:00.765516Z"
    }
   },
   "outputs": [
    {
     "name": "stdout",
     "output_type": "stream",
     "text": [
      "291\n",
      "300\n"
     ]
    },
    {
     "data": {
      "text/html": [
       "<div>\n",
       "<style scoped>\n",
       "    .dataframe tbody tr th:only-of-type {\n",
       "        vertical-align: middle;\n",
       "    }\n",
       "\n",
       "    .dataframe tbody tr th {\n",
       "        vertical-align: top;\n",
       "    }\n",
       "\n",
       "    .dataframe thead th {\n",
       "        text-align: right;\n",
       "    }\n",
       "</style>\n",
       "<table border=\"1\" class=\"dataframe\">\n",
       "  <thead>\n",
       "    <tr style=\"text-align: right;\">\n",
       "      <th></th>\n",
       "      <th>status</th>\n",
       "      <th>site_no</th>\n",
       "      <th>address</th>\n",
       "      <th>full_address</th>\n",
       "      <th>contact</th>\n",
       "      <th>rmvl_rqust</th>\n",
       "      <th>work_description</th>\n",
       "      <th>nbw</th>\n",
       "      <th>owner_phone_comments</th>\n",
       "      <th>projected_hours</th>\n",
       "      <th>regular_</th>\n",
       "      <th>no_parks</th>\n",
       "      <th>flagging</th>\n",
       "      <th>requires_squirt_boom</th>\n",
       "      <th>merge</th>\n",
       "      <th>site_type</th>\n",
       "      <th>notes</th>\n",
       "      <th>trim_date</th>\n",
       "      <th>sign_off</th>\n",
       "    </tr>\n",
       "  </thead>\n",
       "  <tbody>\n",
       "    <tr>\n",
       "      <th>282</th>\n",
       "      <td>Not Started</td>\n",
       "      <td>283</td>\n",
       "      <td>12751 EVANSTON AVE N</td>\n",
       "      <td>12751 EVANSTON AVE N Seattle, WA</td>\n",
       "      <td>DH</td>\n",
       "      <td></td>\n",
       "      <td>ST FIR / CLEAR POLE</td>\n",
       "      <td></td>\n",
       "      <td></td>\n",
       "      <td>1.00</td>\n",
       "      <td>X</td>\n",
       "      <td></td>\n",
       "      <td></td>\n",
       "      <td>False</td>\n",
       "      <td></td>\n",
       "      <td>Regular</td>\n",
       "      <td></td>\n",
       "      <td></td>\n",
       "      <td></td>\n",
       "    </tr>\n",
       "    <tr>\n",
       "      <th>294</th>\n",
       "      <td>423.75</td>\n",
       "      <td>283</td>\n",
       "      <td>Pending</td>\n",
       "      <td></td>\n",
       "      <td>H.M.R</td>\n",
       "      <td>0.00</td>\n",
       "      <td>0.00</td>\n",
       "      <td>0.00</td>\n",
       "      <td>2.00</td>\n",
       "      <td>1.00</td>\n",
       "      <td></td>\n",
       "      <td></td>\n",
       "      <td></td>\n",
       "      <td>False</td>\n",
       "      <td>3.00</td>\n",
       "      <td></td>\n",
       "      <td>3.00</td>\n",
       "      <td>2.00</td>\n",
       "      <td>1.50</td>\n",
       "    </tr>\n",
       "  </tbody>\n",
       "</table>\n",
       "</div>"
      ],
      "text/plain": [
       "          status site_no               address  \\\n",
       "282  Not Started     283  12751 EVANSTON AVE N   \n",
       "294       423.75     283               Pending   \n",
       "\n",
       "                         full_address contact rmvl_rqust     work_description  \\\n",
       "282  12751 EVANSTON AVE N Seattle, WA      DH             ST FIR / CLEAR POLE   \n",
       "294                                     H.M.R       0.00                 0.00   \n",
       "\n",
       "      nbw owner_phone_comments projected_hours regular_ no_parks flagging  \\\n",
       "282                                       1.00        X                     \n",
       "294  0.00                 2.00            1.00                              \n",
       "\n",
       "     requires_squirt_boom merge site_type notes trim_date sign_off  \n",
       "282                 False        Regular                            \n",
       "294                 False  3.00            3.00      2.00     1.50  "
      ]
     },
     "execution_count": 86,
     "metadata": {},
     "output_type": "execute_result"
    }
   ],
   "source": [
    "# TODO: understand the implications of duplicated site numbers and missing site numbers\n",
    "(raw.site_no=='283').sum()\n",
    "\n",
    "print(len(raw.site_no.drop_duplicates()))\n",
    "print(len(raw.site_no))\n",
    "\n",
    "raw.loc[lambda df: df.site_no=='283']"
   ]
  },
  {
   "cell_type": "code",
   "execution_count": 79,
   "id": "9f6e37e3",
   "metadata": {
    "ExecuteTime": {
     "end_time": "2023-06-19T00:32:05.301872Z",
     "start_time": "2023-06-19T00:32:05.265436Z"
    }
   },
   "outputs": [],
   "source": [
    "df = raw.assign(unique_id=range(raw.shape[0]))"
   ]
  },
  {
   "cell_type": "code",
   "execution_count": 88,
   "id": "540255c7",
   "metadata": {
    "ExecuteTime": {
     "end_time": "2023-06-19T00:34:52.741400Z",
     "start_time": "2023-06-19T00:34:52.684154Z"
    }
   },
   "outputs": [
    {
     "data": {
      "text/plain": [
       "Index(['status', 'site_no', 'address', 'full_address', 'contact', 'rmvl_rqust',\n",
       "       'work_description', 'nbw', 'owner_phone_comments', 'projected_hours',\n",
       "       'regular_', 'no_parks', 'flagging', 'requires_squirt_boom', 'merge',\n",
       "       'site_type', 'notes', 'trim_date', 'sign_off', 'unique_id'],\n",
       "      dtype='object')"
      ]
     },
     "execution_count": 88,
     "metadata": {},
     "output_type": "execute_result"
    }
   ],
   "source": [
    "df.columns"
   ]
  },
  {
   "cell_type": "code",
   "execution_count": 114,
   "id": "7ab69214",
   "metadata": {
    "ExecuteTime": {
     "end_time": "2023-06-19T00:47:39.357912Z",
     "start_time": "2023-06-19T00:47:39.292384Z"
    }
   },
   "outputs": [
    {
     "data": {
      "text/html": [
       "<div>\n",
       "<style scoped>\n",
       "    .dataframe tbody tr th:only-of-type {\n",
       "        vertical-align: middle;\n",
       "    }\n",
       "\n",
       "    .dataframe tbody tr th {\n",
       "        vertical-align: top;\n",
       "    }\n",
       "\n",
       "    .dataframe thead th {\n",
       "        text-align: right;\n",
       "    }\n",
       "</style>\n",
       "<table border=\"1\" class=\"dataframe\">\n",
       "  <thead>\n",
       "    <tr style=\"text-align: right;\">\n",
       "      <th></th>\n",
       "      <th>unique_id</th>\n",
       "      <th>full_address</th>\n",
       "      <th>projected_hours</th>\n",
       "      <th>requires_squirt_boom</th>\n",
       "    </tr>\n",
       "  </thead>\n",
       "  <tbody>\n",
       "    <tr>\n",
       "      <th>0</th>\n",
       "      <td>0</td>\n",
       "      <td>525 N 125TH ST Seattle, WA</td>\n",
       "      <td>0.75</td>\n",
       "      <td>0</td>\n",
       "    </tr>\n",
       "    <tr>\n",
       "      <th>1</th>\n",
       "      <td>1</td>\n",
       "      <td>12245 EVANSTON AVE N Seattle, WA</td>\n",
       "      <td>1.00</td>\n",
       "      <td>0</td>\n",
       "    </tr>\n",
       "  </tbody>\n",
       "</table>\n",
       "</div>"
      ],
      "text/plain": [
       "   unique_id                      full_address projected_hours  \\\n",
       "0          0        525 N 125TH ST Seattle, WA            0.75   \n",
       "1          1  12245 EVANSTON AVE N Seattle, WA            1.00   \n",
       "\n",
       "   requires_squirt_boom  \n",
       "0                     0  \n",
       "1                     0  "
      ]
     },
     "execution_count": 114,
     "metadata": {},
     "output_type": "execute_result"
    }
   ],
   "source": [
    "data = df.loc[:,['unique_id', 'full_address','projected_hours','requires_squirt_boom']].astype({'requires_squirt_boom': int})\n",
    "data.head(2)"
   ]
  },
  {
   "cell_type": "code",
   "execution_count": 94,
   "id": "4c5314f3",
   "metadata": {
    "ExecuteTime": {
     "end_time": "2023-06-19T00:37:23.463059Z",
     "start_time": "2023-06-19T00:37:23.406673Z"
    }
   },
   "outputs": [],
   "source": [
    "# could split manually, but generalizing to multiple dimensions instead for the learns\n",
    "# data_needs_boom, data_no_boom = data.loc[lambda df: df.requires_squirt_boom, :], df.loc[lambda df: ~df.requires_squirt_boom, :]\n"
   ]
  },
  {
   "cell_type": "code",
   "execution_count": 87,
   "id": "55498a6e",
   "metadata": {
    "ExecuteTime": {
     "end_time": "2023-06-19T00:34:38.667633Z",
     "start_time": "2023-06-19T00:34:33.245747Z"
    }
   },
   "outputs": [],
   "source": [
    "from sklearn.cluster import AgglomerativeClustering"
   ]
  },
  {
   "cell_type": "code",
   "execution_count": 115,
   "id": "3a8e7093",
   "metadata": {
    "ExecuteTime": {
     "end_time": "2023-06-19T00:48:41.988332Z",
     "start_time": "2023-06-19T00:48:41.927685Z"
    }
   },
   "outputs": [
    {
     "name": "stdout",
     "output_type": "stream",
     "text": [
      "0th iteration, value is a\n",
      "1th iteration, value is b\n",
      "2th iteration, value is 2\n"
     ]
    }
   ],
   "source": [
    "for i, val in enumerate(['a','b',2]):\n",
    "    print(f\"{i}th iteration, value is {val}\")"
   ]
  },
  {
   "cell_type": "code",
   "execution_count": 128,
   "id": "213a7708",
   "metadata": {
    "ExecuteTime": {
     "end_time": "2023-06-19T00:50:43.785201Z",
     "start_time": "2023-06-19T00:50:43.736627Z"
    }
   },
   "outputs": [
    {
     "data": {
      "text/plain": [
       "59"
      ]
     },
     "execution_count": 128,
     "metadata": {},
     "output_type": "execute_result"
    }
   ],
   "source": [
    "data.requires_squirt_boom.argmax()"
   ]
  },
  {
   "cell_type": "code",
   "execution_count": 129,
   "id": "876c3bba",
   "metadata": {
    "ExecuteTime": {
     "end_time": "2023-06-19T00:50:51.333298Z",
     "start_time": "2023-06-19T00:50:51.284146Z"
    }
   },
   "outputs": [
    {
     "data": {
      "text/plain": [
       "unique_id                                             59\n",
       "full_address            12212 DENSMORE AVE N Seattle, WA\n",
       "projected_hours                                     3.00\n",
       "requires_squirt_boom                                   1\n",
       "Name: 59, dtype: object"
      ]
     },
     "execution_count": 129,
     "metadata": {},
     "output_type": "execute_result"
    }
   ],
   "source": [
    "data.loc[59,:]"
   ]
  },
  {
   "cell_type": "code",
   "execution_count": 130,
   "id": "5530627c",
   "metadata": {
    "ExecuteTime": {
     "end_time": "2023-06-19T00:51:17.664051Z",
     "start_time": "2023-06-19T00:51:17.606110Z"
    }
   },
   "outputs": [
    {
     "data": {
      "text/plain": [
       "array([0.])"
      ]
     },
     "execution_count": 130,
     "metadata": {},
     "output_type": "execute_result"
    }
   ],
   "source": [
    "holding_matrix[59,58]"
   ]
  },
  {
   "cell_type": "code",
   "execution_count": 135,
   "id": "0c0b7673",
   "metadata": {
    "ExecuteTime": {
     "end_time": "2023-06-19T00:51:57.613064Z",
     "start_time": "2023-06-19T00:51:57.565951Z"
    }
   },
   "outputs": [],
   "source": [
    "holding_matrix[0,0] = np.abs(data.loc[59,'requires_squirt_boom']- data.loc[60,'requires_squirt_boom'])"
   ]
  },
  {
   "cell_type": "code",
   "execution_count": 136,
   "id": "bd7b2084",
   "metadata": {
    "ExecuteTime": {
     "end_time": "2023-06-19T00:52:01.489243Z",
     "start_time": "2023-06-19T00:52:01.441496Z"
    }
   },
   "outputs": [
    {
     "data": {
      "text/plain": [
       "array([1.])"
      ]
     },
     "execution_count": 136,
     "metadata": {},
     "output_type": "execute_result"
    }
   ],
   "source": [
    "holding_matrix[0,0]"
   ]
  },
  {
   "cell_type": "code",
   "execution_count": 137,
   "id": "e8b9d0e9",
   "metadata": {
    "ExecuteTime": {
     "end_time": "2023-06-19T00:52:23.043205Z",
     "start_time": "2023-06-19T00:52:22.992608Z"
    }
   },
   "outputs": [
    {
     "data": {
      "text/plain": [
       "array([0.])"
      ]
     },
     "execution_count": 137,
     "metadata": {},
     "output_type": "execute_result"
    }
   ],
   "source": [
    "holding_matrix[59,58]"
   ]
  },
  {
   "cell_type": "code",
   "execution_count": 141,
   "id": "9b3be7c0",
   "metadata": {
    "ExecuteTime": {
     "end_time": "2023-06-19T00:52:44.557331Z",
     "start_time": "2023-06-19T00:52:44.511928Z"
    }
   },
   "outputs": [
    {
     "data": {
      "text/plain": [
       "1"
      ]
     },
     "execution_count": 141,
     "metadata": {},
     "output_type": "execute_result"
    }
   ],
   "source": [
    "data.loc[59, \"requires_squirt_boom\"]"
   ]
  },
  {
   "cell_type": "code",
   "execution_count": 145,
   "id": "35eee571",
   "metadata": {
    "ExecuteTime": {
     "end_time": "2023-06-19T00:56:30.166744Z",
     "start_time": "2023-06-19T00:56:28.286210Z"
    }
   },
   "outputs": [],
   "source": [
    "squirt_requirement = np.empty((len(df), len(df), 1))\n",
    "for row, task_to_compare in enumerate(data.unique_id):\n",
    "    for column, paired_task in enumerate(data.unique_id):\n",
    "        squirt_requirement[row, column] = np.abs(\n",
    "            (\n",
    "                data.loc[task_to_compare, \"requires_squirt_boom\"]\n",
    "                - data.loc[paired_task, \"requires_squirt_boom\"]\n",
    "            )\n",
    "        )"
   ]
  },
  {
   "cell_type": "code",
   "execution_count": null,
   "id": "098d8845",
   "metadata": {},
   "outputs": [],
   "source": []
  },
  {
   "cell_type": "code",
   "execution_count": 105,
   "id": "fb0527a2",
   "metadata": {
    "ExecuteTime": {
     "end_time": "2023-06-19T00:43:17.980440Z",
     "start_time": "2023-06-19T00:43:17.921666Z"
    }
   },
   "outputs": [],
   "source": [
    "df = data\n",
    "faux_drivetime = pd.DataFrame(np.random.rand(len(df),len(df)),).astype(float)\n",
    "drivetime_layer = faux_drivetime.values.reshape(len(df),len(df),1)"
   ]
  },
  {
   "cell_type": "code",
   "execution_count": 151,
   "id": "0822ae9c",
   "metadata": {
    "ExecuteTime": {
     "end_time": "2023-06-19T00:57:52.094505Z",
     "start_time": "2023-06-19T00:57:52.047679Z"
    }
   },
   "outputs": [],
   "source": [
    "squirt_weight = 1000\n",
    "distance_matrix = np.concatenate(\n",
    "    (\n",
    "        drivetime_layer.reshape(len(df), len(df), 1),\n",
    "        squirt_requirement.reshape(len(df), len(df), 1)*squirt_weight,\n",
    "    ),\n",
    "    axis=2,\n",
    ").sum(axis=2)"
   ]
  },
  {
   "cell_type": "code",
   "execution_count": 170,
   "id": "715a974f",
   "metadata": {
    "ExecuteTime": {
     "end_time": "2023-06-19T01:02:29.201261Z",
     "start_time": "2023-06-19T01:02:29.131415Z"
    }
   },
   "outputs": [
    {
     "data": {
      "text/plain": [
       "array([295, 155, 238, 275, 225, 257, 209, 160, 173, 255, 176, 291, 274,\n",
       "       200, 193, 269, 207, 163, 223, 197, 195, 297, 260, 266, 198, 213,\n",
       "       215, 150, 229, 287, 226, 162, 202, 232, 243, 242, 285, 188, 249,\n",
       "       282, 157, 277, 268, 258, 288, 284, 185, 224, 271, 289, 247, 278,\n",
       "       190, 273, 244, 153, 164, 250, 220, 256, 175, 187, 299, 183, 263,\n",
       "       181, 279, 259, 265, 241, 262, 280, 292, 233, 251, 228, 169, 296,\n",
       "       286, 240, 124, 261, 132, 168, 245, 230, 236, 180, 184, 216, 246,\n",
       "       129, 219, 161, 252, 127, 158, 189, 294, 270,  80, 130, 179, 298,\n",
       "       192, 248, 212, 253,  91, 214, 147, 143, 211, 196, 105, 186, 138,\n",
       "       237, 221,  93, 293, 123, 206, 205,  61,  64, 114, 283, 231, 281,\n",
       "       254, 171, 272, 154, 172, 156, 264, 170, 227, 204, 182,  89, 174,\n",
       "       166, 148, 106,  84, 159, 239, 178,  76, 145, 107, 217, 199, 128,\n",
       "       115, 142, 234, 151, 208, 165, 112,  81, 126,  87,  82, 121, 194,\n",
       "        92,  79, 203, 210,  94, 222, 149,  77, 113, 201, 267, 167, 122,\n",
       "        98, 116, 152,  78, 218,  60,  46,  97,  96, 235, 131, 103, 104,\n",
       "        90, 119,  44, 276, 117,  52, 136,  83,  73, 109, 141,  75,  63,\n",
       "        65, 120, 133, 290, 140,  99, 177, 108, 110, 139, 134, 135,  67,\n",
       "       137,  70, 102,  37,  39, 125, 118, 101,  86,  40,  68, 191,  58,\n",
       "        59, 144,  62,  29, 146,  85,  66,  45,  22,  88,  56,  51,  33,\n",
       "        53,  32,  95,  42,  38,  31,  74, 111,  19,  69,  15,  57,  48,\n",
       "        34,  28,  50,  47,  23,  55,  25,  72,  41,  16,  18,  30,  27,\n",
       "        71,  36, 100,  35,  43,  54,  13,  14,  17,  20,  26,   7,   6,\n",
       "        21,  10,   8,   9,  12,   4,   3,   1,  49,  24,  11,   5,   2,\n",
       "         0])"
      ]
     },
     "execution_count": 170,
     "metadata": {},
     "output_type": "execute_result"
    }
   ],
   "source": [
    "\n",
    "mdl = AgglomerativeClustering(distance_threshold=0,n_clusters=None)\n",
    "\n",
    "mdl.fit_predict(X=distance_matrix)"
   ]
  },
  {
   "cell_type": "code",
   "execution_count": 168,
   "id": "9cc934cc",
   "metadata": {
    "ExecuteTime": {
     "end_time": "2023-06-19T01:00:50.590931Z",
     "start_time": "2023-06-19T01:00:50.544165Z"
    }
   },
   "outputs": [],
   "source": [
    "from scipy.cluster.hierarchy import dendrogram"
   ]
  },
  {
   "cell_type": "code",
   "execution_count": 176,
   "id": "9b13675b",
   "metadata": {
    "ExecuteTime": {
     "end_time": "2023-06-19T01:03:46.099423Z",
     "start_time": "2023-06-19T01:03:45.866388Z"
    }
   },
   "outputs": [
    {
     "data": {
      "image/png": "[encoded data removed]",
      "text/plain": [
       "<Figure size 800x550 with 1 Axes>"
      ]
     },
     "metadata": {
      "image/png": {
       "height": 468,
       "width": 703
      }
     },
     "output_type": "display_data"
    }
   ],
   "source": [
    "plot_dendrogram(mdl,truncate_mode=\"level\", p=1)"
   ]
  },
  {
   "cell_type": "code",
   "execution_count": 165,
   "id": "bd2041e5",
   "metadata": {
    "ExecuteTime": {
     "end_time": "2023-06-19T01:00:27.013785Z",
     "start_time": "2023-06-19T01:00:26.966172Z"
    }
   },
   "outputs": [],
   "source": [
    "def plot_dendrogram(model, **kwargs):\n",
    "    # Create linkage matrix and then plot the dendrogram\n",
    "\n",
    "    # create the counts of samples under each node\n",
    "    counts = np.zeros(model.children_.shape[0])\n",
    "    n_samples = len(model.labels_)\n",
    "    for i, merge in enumerate(model.children_):\n",
    "        current_count = 0\n",
    "        for child_idx in merge:\n",
    "            if child_idx < n_samples:\n",
    "                current_count += 1  # leaf node\n",
    "            else:\n",
    "                current_count += counts[child_idx - n_samples]\n",
    "        counts[i] = current_count\n",
    "\n",
    "    linkage_matrix = np.column_stack(\n",
    "        [model.children_, model.distances_, counts]\n",
    "    ).astype(float)\n",
    "\n",
    "    # Plot the corresponding dendrogram\n",
    "    dendrogram(linkage_matrix, **kwargs)"
   ]
  },
  {
   "cell_type": "code",
   "execution_count": 162,
   "id": "30a1ef38",
   "metadata": {
    "ExecuteTime": {
     "end_time": "2023-06-19T00:59:38.120265Z",
     "start_time": "2023-06-19T00:59:38.071543Z"
    }
   },
   "outputs": [
    {
     "data": {
      "text/plain": [
       "['__class__',\n",
       " '__delattr__',\n",
       " '__dict__',\n",
       " '__dir__',\n",
       " '__doc__',\n",
       " '__eq__',\n",
       " '__format__',\n",
       " '__ge__',\n",
       " '__getattribute__',\n",
       " '__getstate__',\n",
       " '__gt__',\n",
       " '__hash__',\n",
       " '__init__',\n",
       " '__init_subclass__',\n",
       " '__le__',\n",
       " '__lt__',\n",
       " '__module__',\n",
       " '__ne__',\n",
       " '__new__',\n",
       " '__reduce__',\n",
       " '__reduce_ex__',\n",
       " '__repr__',\n",
       " '__setattr__',\n",
       " '__setstate__',\n",
       " '__sizeof__',\n",
       " '__str__',\n",
       " '__subclasshook__',\n",
       " '__weakref__',\n",
       " '_check_feature_names',\n",
       " '_check_n_features',\n",
       " '_estimator_type',\n",
       " '_fit',\n",
       " '_get_param_names',\n",
       " '_get_tags',\n",
       " '_more_tags',\n",
       " '_repr_html_',\n",
       " '_repr_html_inner',\n",
       " '_repr_mimebundle_',\n",
       " '_validate_data',\n",
       " 'affinity',\n",
       " 'children_',\n",
       " 'compute_distances',\n",
       " 'compute_full_tree',\n",
       " 'connectivity',\n",
       " 'distance_threshold',\n",
       " 'fit',\n",
       " 'fit_predict',\n",
       " 'get_params',\n",
       " 'labels_',\n",
       " 'linkage',\n",
       " 'memory',\n",
       " 'n_clusters',\n",
       " 'n_clusters_',\n",
       " 'n_connected_components_',\n",
       " 'n_features_in_',\n",
       " 'n_leaves_',\n",
       " 'set_params']"
      ]
     },
     "execution_count": 162,
     "metadata": {},
     "output_type": "execute_result"
    }
   ],
   "source": [
    "dir(mdl)"
   ]
  },
  {
   "cell_type": "code",
   "execution_count": 106,
   "id": "0d737c2a",
   "metadata": {
    "ExecuteTime": {
     "end_time": "2023-06-19T00:43:22.205603Z",
     "start_time": "2023-06-19T00:43:22.149589Z"
    }
   },
   "outputs": [
    {
     "data": {
      "text/plain": [
       "(300, 300)"
      ]
     },
     "execution_count": 106,
     "metadata": {},
     "output_type": "execute_result"
    }
   ],
   "source": [
    "faux_drivetime.shape"
   ]
  },
  {
   "cell_type": "code",
   "execution_count": 110,
   "id": "108f2f52",
   "metadata": {
    "ExecuteTime": {
     "end_time": "2023-06-19T00:43:59.191068Z",
     "start_time": "2023-06-19T00:43:59.144726Z"
    }
   },
   "outputs": [
    {
     "data": {
      "text/plain": [
       "(300, 300, 1)"
      ]
     },
     "execution_count": 110,
     "metadata": {},
     "output_type": "execute_result"
    }
   ],
   "source": [
    "drivetime_layer.shape"
   ]
  },
  {
   "cell_type": "code",
   "execution_count": 103,
   "id": "820375e6",
   "metadata": {
    "ExecuteTime": {
     "end_time": "2023-06-19T00:40:01.864311Z",
     "start_time": "2023-06-19T00:40:01.816036Z"
    }
   },
   "outputs": [
    {
     "data": {
      "text/plain": [
       "(299, 299)"
      ]
     },
     "execution_count": 103,
     "metadata": {},
     "output_type": "execute_result"
    }
   ],
   "source": [
    "faux_drivetime.shape"
   ]
  },
  {
   "cell_type": "code",
   "execution_count": null,
   "id": "f35dd4c3",
   "metadata": {},
   "outputs": [],
   "source": [
    "distance_driving = pd.DataFrame(np.random.rand(10,10)).round(3)\n",
    "\n",
    "job_similarity_weight = 10\n",
    "distance_job_similarity = pd.DataFrame(np.random.rand(10,10)>0.2).astype(float)*job_similarity_weight\n",
    "\n",
    "Distance_job_similarity \n",
    "\n",
    "distance_driving\n",
    "\n",
    "distance_matrix = np.concatenate((distance_driving.values.reshape(10,10,-1),distance_job_similarity.values.reshape(10,10,-1)),axis=2).sum(axis=2)\n",
    "\n",
    "mdl = AgglomerativeClustering(n_clusters=2)\n",
    "\n",
    "mdl.fit_predict(X=distance_matrix)"
   ]
  },
  {
   "cell_type": "code",
   "execution_count": 54,
   "id": "35acdc3e",
   "metadata": {
    "ExecuteTime": {
     "end_time": "2023-06-18T22:58:38.204341Z",
     "start_time": "2023-06-18T22:58:38.156825Z"
    }
   },
   "outputs": [
    {
     "data": {
      "text/plain": [
       "       8\n",
       "283    2\n",
       "3      2\n",
       "191    1\n",
       "198    1\n",
       "      ..\n",
       "98     1\n",
       "97     1\n",
       "96     1\n",
       "95     1\n",
       "0      1\n",
       "Name: site_no, Length: 291, dtype: int64"
      ]
     },
     "execution_count": 54,
     "metadata": {},
     "output_type": "execute_result"
    }
   ],
   "source": [
    "raw.site_no.value_counts()"
   ]
  },
  {
   "cell_type": "code",
   "execution_count": 48,
   "id": "6765ee09",
   "metadata": {
    "ExecuteTime": {
     "end_time": "2023-06-18T22:57:28.843615Z",
     "start_time": "2023-06-18T22:57:28.793467Z"
    }
   },
   "outputs": [
    {
     "data": {
      "text/html": [
       "<div>\n",
       "<style scoped>\n",
       "    .dataframe tbody tr th:only-of-type {\n",
       "        vertical-align: middle;\n",
       "    }\n",
       "\n",
       "    .dataframe tbody tr th {\n",
       "        vertical-align: top;\n",
       "    }\n",
       "\n",
       "    .dataframe thead th {\n",
       "        text-align: right;\n",
       "    }\n",
       "</style>\n",
       "<table border=\"1\" class=\"dataframe\">\n",
       "  <thead>\n",
       "    <tr style=\"text-align: right;\">\n",
       "      <th></th>\n",
       "      <th>status</th>\n",
       "      <th>site_no</th>\n",
       "      <th>address</th>\n",
       "      <th>full_address</th>\n",
       "      <th>contact</th>\n",
       "      <th>rmvl_rqust</th>\n",
       "      <th>work_description</th>\n",
       "      <th>nbw</th>\n",
       "      <th>owner_phone_comments</th>\n",
       "      <th>projected_hours</th>\n",
       "      <th>regular_</th>\n",
       "      <th>no_parks</th>\n",
       "      <th>flagging</th>\n",
       "      <th>requires_squirt_boom</th>\n",
       "      <th>merge</th>\n",
       "      <th>site_type</th>\n",
       "      <th>notes</th>\n",
       "      <th>trim_date</th>\n",
       "      <th>sign_off</th>\n",
       "    </tr>\n",
       "  </thead>\n",
       "  <tbody>\n",
       "    <tr>\n",
       "      <th>0</th>\n",
       "      <td>Done</td>\n",
       "      <td>1</td>\n",
       "      <td>525 N 125TH ST</td>\n",
       "      <td>525 N 125TH ST Seattle, WA</td>\n",
       "      <td>DH</td>\n",
       "      <td></td>\n",
       "      <td>ST CEDAR ON EVANSTON</td>\n",
       "      <td></td>\n",
       "      <td></td>\n",
       "      <td>0.75</td>\n",
       "      <td>X</td>\n",
       "      <td></td>\n",
       "      <td></td>\n",
       "      <td>False</td>\n",
       "      <td></td>\n",
       "      <td>RegularCompleted</td>\n",
       "      <td></td>\n",
       "      <td>6/14/23</td>\n",
       "      <td>H.M.R</td>\n",
       "    </tr>\n",
       "    <tr>\n",
       "      <th>1</th>\n",
       "      <td>Done</td>\n",
       "      <td>2</td>\n",
       "      <td>12245 EVANSTON AVE N</td>\n",
       "      <td>12245 EVANSTON AVE N Seattle, WA</td>\n",
       "      <td>SH</td>\n",
       "      <td></td>\n",
       "      <td>ST FIR &amp; PINE / CLEAR POLE</td>\n",
       "      <td></td>\n",
       "      <td></td>\n",
       "      <td>1.00</td>\n",
       "      <td>X</td>\n",
       "      <td></td>\n",
       "      <td></td>\n",
       "      <td>False</td>\n",
       "      <td></td>\n",
       "      <td>RegularCompleted</td>\n",
       "      <td></td>\n",
       "      <td>6/15/23</td>\n",
       "      <td>H.M.R</td>\n",
       "    </tr>\n",
       "    <tr>\n",
       "      <th>2</th>\n",
       "      <td>Done</td>\n",
       "      <td>3</td>\n",
       "      <td>522 N 122ND ST</td>\n",
       "      <td>522 N 122ND ST Seattle, WA</td>\n",
       "      <td>DH</td>\n",
       "      <td></td>\n",
       "      <td>TT APPLE FOR NEUTRAL ON 122ND</td>\n",
       "      <td></td>\n",
       "      <td></td>\n",
       "      <td>0.75</td>\n",
       "      <td>X</td>\n",
       "      <td></td>\n",
       "      <td></td>\n",
       "      <td>False</td>\n",
       "      <td></td>\n",
       "      <td>RegularCompleted</td>\n",
       "      <td></td>\n",
       "      <td>6/15/23</td>\n",
       "      <td>H.M.R</td>\n",
       "    </tr>\n",
       "    <tr>\n",
       "      <th>3</th>\n",
       "      <td>In Process</td>\n",
       "      <td>4</td>\n",
       "      <td>523 N 122ND ST</td>\n",
       "      <td>523 N 122ND ST Seattle, WA</td>\n",
       "      <td>DH</td>\n",
       "      <td></td>\n",
       "      <td>ST CEDARS &amp; FIR / TTS PINES / CLEAR POLE / WOR...</td>\n",
       "      <td></td>\n",
       "      <td></td>\n",
       "      <td>2.00</td>\n",
       "      <td>X</td>\n",
       "      <td></td>\n",
       "      <td></td>\n",
       "      <td>False</td>\n",
       "      <td></td>\n",
       "      <td>RegularIn Process</td>\n",
       "      <td></td>\n",
       "      <td></td>\n",
       "      <td></td>\n",
       "    </tr>\n",
       "    <tr>\n",
       "      <th>4</th>\n",
       "      <td>Not Started</td>\n",
       "      <td>5</td>\n",
       "      <td>12043 EVANSTON AVE N</td>\n",
       "      <td>12043 EVANSTON AVE N Seattle, WA</td>\n",
       "      <td>DH</td>\n",
       "      <td></td>\n",
       "      <td>TTS DEODAR AND MAPLE / CLEAR POLE</td>\n",
       "      <td></td>\n",
       "      <td></td>\n",
       "      <td>1.00</td>\n",
       "      <td>X</td>\n",
       "      <td></td>\n",
       "      <td></td>\n",
       "      <td>False</td>\n",
       "      <td></td>\n",
       "      <td>Regular</td>\n",
       "      <td></td>\n",
       "      <td></td>\n",
       "      <td></td>\n",
       "    </tr>\n",
       "    <tr>\n",
       "      <th>...</th>\n",
       "      <td>...</td>\n",
       "      <td>...</td>\n",
       "      <td>...</td>\n",
       "      <td>...</td>\n",
       "      <td>...</td>\n",
       "      <td>...</td>\n",
       "      <td>...</td>\n",
       "      <td>...</td>\n",
       "      <td>...</td>\n",
       "      <td>...</td>\n",
       "      <td>...</td>\n",
       "      <td>...</td>\n",
       "      <td>...</td>\n",
       "      <td>...</td>\n",
       "      <td>...</td>\n",
       "      <td>...</td>\n",
       "      <td>...</td>\n",
       "      <td>...</td>\n",
       "      <td>...</td>\n",
       "    </tr>\n",
       "    <tr>\n",
       "      <th>295</th>\n",
       "      <td>0</td>\n",
       "      <td>0</td>\n",
       "      <td>Action Required</td>\n",
       "      <td></td>\n",
       "      <td>AV</td>\n",
       "      <td>0.00</td>\n",
       "      <td>0.00</td>\n",
       "      <td>0.00</td>\n",
       "      <td>0.00</td>\n",
       "      <td>0.00</td>\n",
       "      <td></td>\n",
       "      <td></td>\n",
       "      <td></td>\n",
       "      <td>False</td>\n",
       "      <td>0.00</td>\n",
       "      <td></td>\n",
       "      <td>0.00</td>\n",
       "      <td>0.00</td>\n",
       "      <td>#DIV/0!</td>\n",
       "    </tr>\n",
       "    <tr>\n",
       "      <th>296</th>\n",
       "      <td></td>\n",
       "      <td></td>\n",
       "      <td></td>\n",
       "      <td></td>\n",
       "      <td>JW</td>\n",
       "      <td>0.00</td>\n",
       "      <td>0.00</td>\n",
       "      <td>0.00</td>\n",
       "      <td>0.00</td>\n",
       "      <td>0.00</td>\n",
       "      <td></td>\n",
       "      <td></td>\n",
       "      <td></td>\n",
       "      <td>False</td>\n",
       "      <td>0.00</td>\n",
       "      <td></td>\n",
       "      <td>0.00</td>\n",
       "      <td>0.00</td>\n",
       "      <td>#DIV/0!</td>\n",
       "    </tr>\n",
       "    <tr>\n",
       "      <th>297</th>\n",
       "      <td></td>\n",
       "      <td></td>\n",
       "      <td></td>\n",
       "      <td></td>\n",
       "      <td>NH</td>\n",
       "      <td>0.00</td>\n",
       "      <td>0.00</td>\n",
       "      <td>0.00</td>\n",
       "      <td>0.00</td>\n",
       "      <td>0.00</td>\n",
       "      <td></td>\n",
       "      <td></td>\n",
       "      <td></td>\n",
       "      <td>False</td>\n",
       "      <td>0.00</td>\n",
       "      <td></td>\n",
       "      <td>0.00</td>\n",
       "      <td>0.00</td>\n",
       "      <td>#DIV/0!</td>\n",
       "    </tr>\n",
       "    <tr>\n",
       "      <th>298</th>\n",
       "      <td></td>\n",
       "      <td></td>\n",
       "      <td></td>\n",
       "      <td></td>\n",
       "      <td>RO</td>\n",
       "      <td>0.00</td>\n",
       "      <td>0.00</td>\n",
       "      <td>0.00</td>\n",
       "      <td>0.00</td>\n",
       "      <td>0.00</td>\n",
       "      <td></td>\n",
       "      <td></td>\n",
       "      <td></td>\n",
       "      <td>False</td>\n",
       "      <td>0.00</td>\n",
       "      <td></td>\n",
       "      <td>0.00</td>\n",
       "      <td>0.00</td>\n",
       "      <td>#DIV/0!</td>\n",
       "    </tr>\n",
       "    <tr>\n",
       "      <th>299</th>\n",
       "      <td></td>\n",
       "      <td></td>\n",
       "      <td></td>\n",
       "      <td></td>\n",
       "      <td></td>\n",
       "      <td></td>\n",
       "      <td></td>\n",
       "      <td></td>\n",
       "      <td></td>\n",
       "      <td></td>\n",
       "      <td></td>\n",
       "      <td></td>\n",
       "      <td></td>\n",
       "      <td>False</td>\n",
       "      <td></td>\n",
       "      <td></td>\n",
       "      <td>3.00</td>\n",
       "      <td></td>\n",
       "      <td></td>\n",
       "    </tr>\n",
       "  </tbody>\n",
       "</table>\n",
       "<p>300 rows × 19 columns</p>\n",
       "</div>"
      ],
      "text/plain": [
       "          status site_no               address  \\\n",
       "0           Done       1        525 N 125TH ST   \n",
       "1           Done       2  12245 EVANSTON AVE N   \n",
       "2           Done       3        522 N 122ND ST   \n",
       "3     In Process       4        523 N 122ND ST   \n",
       "4    Not Started       5  12043 EVANSTON AVE N   \n",
       "..           ...     ...                   ...   \n",
       "295            0       0       Action Required   \n",
       "296                                              \n",
       "297                                              \n",
       "298                                              \n",
       "299                                              \n",
       "\n",
       "                         full_address contact rmvl_rqust  \\\n",
       "0          525 N 125TH ST Seattle, WA      DH              \n",
       "1    12245 EVANSTON AVE N Seattle, WA      SH              \n",
       "2          522 N 122ND ST Seattle, WA      DH              \n",
       "3          523 N 122ND ST Seattle, WA      DH              \n",
       "4    12043 EVANSTON AVE N Seattle, WA      DH              \n",
       "..                                ...     ...        ...   \n",
       "295                                        AV       0.00   \n",
       "296                                        JW       0.00   \n",
       "297                                        NH       0.00   \n",
       "298                                        RO       0.00   \n",
       "299                                                        \n",
       "\n",
       "                                      work_description   nbw  \\\n",
       "0                                 ST CEDAR ON EVANSTON         \n",
       "1                           ST FIR & PINE / CLEAR POLE         \n",
       "2                        TT APPLE FOR NEUTRAL ON 122ND         \n",
       "3    ST CEDARS & FIR / TTS PINES / CLEAR POLE / WOR...         \n",
       "4                    TTS DEODAR AND MAPLE / CLEAR POLE         \n",
       "..                                                 ...   ...   \n",
       "295                                               0.00  0.00   \n",
       "296                                               0.00  0.00   \n",
       "297                                               0.00  0.00   \n",
       "298                                               0.00  0.00   \n",
       "299                                                            \n",
       "\n",
       "    owner_phone_comments projected_hours regular_ no_parks flagging  \\\n",
       "0                                   0.75        X                     \n",
       "1                                   1.00        X                     \n",
       "2                                   0.75        X                     \n",
       "3                                   2.00        X                     \n",
       "4                                   1.00        X                     \n",
       "..                   ...             ...      ...      ...      ...   \n",
       "295                 0.00            0.00                              \n",
       "296                 0.00            0.00                              \n",
       "297                 0.00            0.00                              \n",
       "298                 0.00            0.00                              \n",
       "299                                                                   \n",
       "\n",
       "     requires_squirt_boom merge          site_type notes trim_date sign_off  \n",
       "0                   False         RegularCompleted         6/14/23    H.M.R  \n",
       "1                   False         RegularCompleted         6/15/23    H.M.R  \n",
       "2                   False         RegularCompleted         6/15/23    H.M.R  \n",
       "3                   False        RegularIn Process                           \n",
       "4                   False                 Regular                            \n",
       "..                    ...   ...                ...   ...       ...      ...  \n",
       "295                 False  0.00                     0.00      0.00  #DIV/0!  \n",
       "296                 False  0.00                     0.00      0.00  #DIV/0!  \n",
       "297                 False  0.00                     0.00      0.00  #DIV/0!  \n",
       "298                 False  0.00                     0.00      0.00  #DIV/0!  \n",
       "299                 False                           3.00                     \n",
       "\n",
       "[300 rows x 19 columns]"
      ]
     },
     "execution_count": 48,
     "metadata": {},
     "output_type": "execute_result"
    }
   ],
   "source": [
    "raw"
   ]
  },
  {
   "cell_type": "code",
   "execution_count": 46,
   "id": "60d0ed8c",
   "metadata": {
    "ExecuteTime": {
     "end_time": "2023-06-18T22:56:56.012835Z",
     "start_time": "2023-06-18T22:56:55.967187Z"
    }
   },
   "outputs": [
    {
     "data": {
      "text/plain": [
       "0.0033333333333333335"
      ]
     },
     "execution_count": 46,
     "metadata": {},
     "output_type": "execute_result"
    }
   ],
   "source": [
    "raw.requires_squirt_boom.mean()"
   ]
  }
 ],
 "metadata": {
  "kernelspec": {
   "display_name": "Python 3 (ipykernel)",
   "language": "python",
   "name": "python3"
  },
  "language_info": {
   "codemirror_mode": {
    "name": "ipython",
    "version": 3
   },
   "file_extension": ".py",
   "mimetype": "text/x-python",
   "name": "python",
   "nbconvert_exporter": "python",
   "pygments_lexer": "ipython3",
   "version": "3.10.2"
  },
  "toc": {
   "base_numbering": 1,
   "nav_menu": {},
   "number_sections": true,
   "sideBar": true,
   "skip_h1_title": false,
   "title_cell": "Table of Contents",
   "title_sidebar": "Contents",
   "toc_cell": false,
   "toc_position": {},
   "toc_section_display": true,
   "toc_window_display": false
  }
 },
 "nbformat": 4,
 "nbformat_minor": 5
}
